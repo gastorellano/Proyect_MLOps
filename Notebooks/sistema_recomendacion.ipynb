{
 "cells": [
  {
   "cell_type": "markdown",
   "metadata": {},
   "source": [
    "# Sistema de Recomendación"
   ]
  },
  {
   "cell_type": "code",
   "execution_count": 32,
   "metadata": {},
   "outputs": [],
   "source": [
    "import pandas as pd\n",
    "import numpy as np\n",
    "import string \n",
    "from nltk.corpus import stopwords\n",
    "from nltk.tokenize import word_tokenize\n",
    "from sklearn.feature_extraction.text import TfidfVectorizer\n",
    "from sklearn.metrics.pairwise import cosine_similarity\n",
    "from sklearn.decomposition import TruncatedSVD\n",
    "import nltk as nlt\n",
    "from fastapi import HTTPException"
   ]
  },
  {
   "cell_type": "code",
   "execution_count": 33,
   "metadata": {},
   "outputs": [],
   "source": [
    "df = pd.read_parquet(r'C:\\Users\\GASTON\\Desktop\\PI1\\DATA\\df_mlops.parquet')\n",
    "#Creamos un DataFrame a partir del dataset previamente depurado"
   ]
  },
  {
   "cell_type": "code",
   "execution_count": 34,
   "metadata": {},
   "outputs": [
    {
     "data": {
      "text/html": [
       "<div>\n",
       "<style scoped>\n",
       "    .dataframe tbody tr th:only-of-type {\n",
       "        vertical-align: middle;\n",
       "    }\n",
       "\n",
       "    .dataframe tbody tr th {\n",
       "        vertical-align: top;\n",
       "    }\n",
       "\n",
       "    .dataframe thead th {\n",
       "        text-align: right;\n",
       "    }\n",
       "</style>\n",
       "<table border=\"1\" class=\"dataframe\">\n",
       "  <thead>\n",
       "    <tr style=\"text-align: right;\">\n",
       "      <th></th>\n",
       "      <th>id</th>\n",
       "      <th>spoken_languagesname</th>\n",
       "      <th>genresname</th>\n",
       "      <th>title</th>\n",
       "      <th>overview</th>\n",
       "      <th>vote_average</th>\n",
       "      <th>popularity</th>\n",
       "      <th>status</th>\n",
       "      <th>production_countriesname</th>\n",
       "      <th>release_year</th>\n",
       "      <th>director</th>\n",
       "      <th>actor</th>\n",
       "    </tr>\n",
       "  </thead>\n",
       "  <tbody>\n",
       "    <tr>\n",
       "      <th>2</th>\n",
       "      <td>10001</td>\n",
       "      <td>English</td>\n",
       "      <td>Science Fiction, Comedy</td>\n",
       "      <td>Young Einstein</td>\n",
       "      <td>Albert Einstein is the son of a Tasmanian appl...</td>\n",
       "      <td>4.5</td>\n",
       "      <td>2.562888</td>\n",
       "      <td>Released</td>\n",
       "      <td>Australia</td>\n",
       "      <td>1988</td>\n",
       "      <td>Yahoo Serious</td>\n",
       "      <td>Yahoo Serious, Odile Le Clezio, Peewee Wilson,...</td>\n",
       "    </tr>\n",
       "    <tr>\n",
       "      <th>3</th>\n",
       "      <td>100010</td>\n",
       "      <td>English</td>\n",
       "      <td>Drama, War</td>\n",
       "      <td>Flight Command</td>\n",
       "      <td>A rookie flyer, Ens. Alan Drake, joins the fam...</td>\n",
       "      <td>6.0</td>\n",
       "      <td>0.769266</td>\n",
       "      <td>Released</td>\n",
       "      <td>United States of America</td>\n",
       "      <td>1940</td>\n",
       "      <td>Frank Borzage</td>\n",
       "      <td>Robert Taylor, Ruth Hussey, Walter Pidgeon, Pa...</td>\n",
       "    </tr>\n",
       "    <tr>\n",
       "      <th>4</th>\n",
       "      <td>100017</td>\n",
       "      <td>Deutsch</td>\n",
       "      <td>Drama</td>\n",
       "      <td>Hounded</td>\n",
       "      <td>Deals with the obsessive relationship between ...</td>\n",
       "      <td>4.8</td>\n",
       "      <td>2.964103</td>\n",
       "      <td>Released</td>\n",
       "      <td>Germany</td>\n",
       "      <td>2006</td>\n",
       "      <td>Angelina Maccarone</td>\n",
       "      <td>Kostja Ullmann, Maren Kroymann, Moritz Grove, ...</td>\n",
       "    </tr>\n",
       "  </tbody>\n",
       "</table>\n",
       "</div>"
      ],
      "text/plain": [
       "       id spoken_languagesname               genresname           title  \\\n",
       "2   10001              English  Science Fiction, Comedy  Young Einstein   \n",
       "3  100010              English               Drama, War  Flight Command   \n",
       "4  100017              Deutsch                    Drama         Hounded   \n",
       "\n",
       "                                            overview  vote_average  \\\n",
       "2  Albert Einstein is the son of a Tasmanian appl...           4.5   \n",
       "3  A rookie flyer, Ens. Alan Drake, joins the fam...           6.0   \n",
       "4  Deals with the obsessive relationship between ...           4.8   \n",
       "\n",
       "   popularity    status  production_countriesname  release_year  \\\n",
       "2    2.562888  Released                 Australia          1988   \n",
       "3    0.769266  Released  United States of America          1940   \n",
       "4    2.964103  Released                   Germany          2006   \n",
       "\n",
       "             director                                              actor  \n",
       "2       Yahoo Serious  Yahoo Serious, Odile Le Clezio, Peewee Wilson,...  \n",
       "3       Frank Borzage  Robert Taylor, Ruth Hussey, Walter Pidgeon, Pa...  \n",
       "4  Angelina Maccarone  Kostja Ullmann, Maren Kroymann, Moritz Grove, ...  "
      ]
     },
     "execution_count": 34,
     "metadata": {},
     "output_type": "execute_result"
    }
   ],
   "source": [
    "df.head(3)"
   ]
  },
  {
   "cell_type": "code",
   "execution_count": 35,
   "metadata": {},
   "outputs": [
    {
     "name": "stderr",
     "output_type": "stream",
     "text": [
      "[nltk_data] Downloading package stopwords to\n",
      "[nltk_data]     C:\\Users\\GASTON\\AppData\\Roaming\\nltk_data...\n",
      "[nltk_data]   Package stopwords is already up-to-date!\n"
     ]
    }
   ],
   "source": [
    "#Como primer paso, debemos limpiar y tokenizar el texto.\n",
    "#El primer elemento a utilizar para obtener una cadena de palabras clave, serán las stopwords (identificando las palabras adicionales).\n",
    "# Se definirán las stopwords para los idiomas de inglés y español, convirtiendolas en sets\n",
    "\n",
    "nlt.download('stopwords')\n",
    "\n",
    "en_stopwords = set(stopwords.words('english'))\n",
    "esp_stopwords = set(stopwords.words('spanish'))"
   ]
  },
  {
   "cell_type": "code",
   "execution_count": 36,
   "metadata": {},
   "outputs": [],
   "source": [
    "# Función para limpiar y tokenizar nuestras columnas\n",
    "def limpiarTexto(cadena):\n",
    "    '''\n",
    "    Esta función tokeniza el texto, elimina signos de puntuación y convierte los caracteres en minúsculas.\n",
    "    Luego, filtra las stopwords.\n",
    "    Espera como parámetro una cadena de texto.\n",
    "    '''\n",
    "    # Tokenización\n",
    "    etiquetas = word_tokenize(cadena) #se convierte la cadena en una lista de palabras\n",
    "    etiquetas = [word.lower() for word in etiquetas if word.isalpha()] # Se eliminan  signos de puntuación y convierte todo a minúsculas con lower()\n",
    "    etiquetas = [word for word in etiquetas if word not in en_stopwords and word not in esp_stopwords] # Se quitan stopwords en inglés y español descargadas en el paso anterior\n",
    "    return etiquetas"
   ]
  },
  {
   "cell_type": "code",
   "execution_count": 10,
   "metadata": {},
   "outputs": [],
   "source": [
    "#import nltk\n",
    "#nltk.data.path.append('C:/Users/GASTON/AppData/Roaming/nltk_data')"
   ]
  },
  {
   "cell_type": "code",
   "execution_count": 11,
   "metadata": {},
   "outputs": [
    {
     "name": "stderr",
     "output_type": "stream",
     "text": [
      "[nltk_data] Downloading package punkt to\n",
      "[nltk_data]     C:/Users/GASTON/AppData/Roaming/nltk_data...\n",
      "[nltk_data]   Package punkt is already up-to-date!\n"
     ]
    },
    {
     "data": {
      "text/plain": [
       "True"
      ]
     },
     "execution_count": 11,
     "metadata": {},
     "output_type": "execute_result"
    }
   ],
   "source": [
    "#import nltk\n",
    "#nltk.data.path = ['C:/Users/GASTON/AppData/Roaming/nltk_data']\n",
    "#nltk.download('punkt', download_dir='C:/Users/GASTON/AppData/Roaming/nltk_data')\n",
    "#Fue necesario hacer estas modificaciones para que funcione la galería nltk\n"
   ]
  },
  {
   "cell_type": "code",
   "execution_count": 37,
   "metadata": {},
   "outputs": [
    {
     "data": {
      "text/html": [
       "<div>\n",
       "<style scoped>\n",
       "    .dataframe tbody tr th:only-of-type {\n",
       "        vertical-align: middle;\n",
       "    }\n",
       "\n",
       "    .dataframe tbody tr th {\n",
       "        vertical-align: top;\n",
       "    }\n",
       "\n",
       "    .dataframe thead th {\n",
       "        text-align: right;\n",
       "    }\n",
       "</style>\n",
       "<table border=\"1\" class=\"dataframe\">\n",
       "  <thead>\n",
       "    <tr style=\"text-align: right;\">\n",
       "      <th></th>\n",
       "      <th>id</th>\n",
       "      <th>spoken_languagesname</th>\n",
       "      <th>genresname</th>\n",
       "      <th>title</th>\n",
       "      <th>overview</th>\n",
       "      <th>vote_average</th>\n",
       "      <th>popularity</th>\n",
       "      <th>status</th>\n",
       "      <th>production_countriesname</th>\n",
       "      <th>release_year</th>\n",
       "      <th>director</th>\n",
       "      <th>actor</th>\n",
       "      <th>title_depurado</th>\n",
       "      <th>overview_depurado</th>\n",
       "    </tr>\n",
       "  </thead>\n",
       "  <tbody>\n",
       "    <tr>\n",
       "      <th>2</th>\n",
       "      <td>10001</td>\n",
       "      <td>English</td>\n",
       "      <td>Science Fiction, Comedy</td>\n",
       "      <td>Young Einstein</td>\n",
       "      <td>Albert Einstein is the son of a Tasmanian appl...</td>\n",
       "      <td>4.5</td>\n",
       "      <td>2.562888</td>\n",
       "      <td>Released</td>\n",
       "      <td>Australia</td>\n",
       "      <td>1988</td>\n",
       "      <td>Yahoo Serious</td>\n",
       "      <td>Yahoo Serious, Odile Le Clezio, Peewee Wilson,...</td>\n",
       "      <td>[young, einstein]</td>\n",
       "      <td>[albert, einstein, tasmanian, apple, farmer, d...</td>\n",
       "    </tr>\n",
       "    <tr>\n",
       "      <th>3</th>\n",
       "      <td>100010</td>\n",
       "      <td>English</td>\n",
       "      <td>Drama, War</td>\n",
       "      <td>Flight Command</td>\n",
       "      <td>A rookie flyer, Ens. Alan Drake, joins the fam...</td>\n",
       "      <td>6.0</td>\n",
       "      <td>0.769266</td>\n",
       "      <td>Released</td>\n",
       "      <td>United States of America</td>\n",
       "      <td>1940</td>\n",
       "      <td>Frank Borzage</td>\n",
       "      <td>Robert Taylor, Ruth Hussey, Walter Pidgeon, Pa...</td>\n",
       "      <td>[flight, command]</td>\n",
       "      <td>[rookie, flyer, ens, alan, drake, joins, famou...</td>\n",
       "    </tr>\n",
       "    <tr>\n",
       "      <th>4</th>\n",
       "      <td>100017</td>\n",
       "      <td>Deutsch</td>\n",
       "      <td>Drama</td>\n",
       "      <td>Hounded</td>\n",
       "      <td>Deals with the obsessive relationship between ...</td>\n",
       "      <td>4.8</td>\n",
       "      <td>2.964103</td>\n",
       "      <td>Released</td>\n",
       "      <td>Germany</td>\n",
       "      <td>2006</td>\n",
       "      <td>Angelina Maccarone</td>\n",
       "      <td>Kostja Ullmann, Maren Kroymann, Moritz Grove, ...</td>\n",
       "      <td>[hounded]</td>\n",
       "      <td>[deals, obsessive, relationship, confused, tee...</td>\n",
       "    </tr>\n",
       "  </tbody>\n",
       "</table>\n",
       "</div>"
      ],
      "text/plain": [
       "       id spoken_languagesname               genresname           title  \\\n",
       "2   10001              English  Science Fiction, Comedy  Young Einstein   \n",
       "3  100010              English               Drama, War  Flight Command   \n",
       "4  100017              Deutsch                    Drama         Hounded   \n",
       "\n",
       "                                            overview  vote_average  \\\n",
       "2  Albert Einstein is the son of a Tasmanian appl...           4.5   \n",
       "3  A rookie flyer, Ens. Alan Drake, joins the fam...           6.0   \n",
       "4  Deals with the obsessive relationship between ...           4.8   \n",
       "\n",
       "   popularity    status  production_countriesname  release_year  \\\n",
       "2    2.562888  Released                 Australia          1988   \n",
       "3    0.769266  Released  United States of America          1940   \n",
       "4    2.964103  Released                   Germany          2006   \n",
       "\n",
       "             director                                              actor  \\\n",
       "2       Yahoo Serious  Yahoo Serious, Odile Le Clezio, Peewee Wilson,...   \n",
       "3       Frank Borzage  Robert Taylor, Ruth Hussey, Walter Pidgeon, Pa...   \n",
       "4  Angelina Maccarone  Kostja Ullmann, Maren Kroymann, Moritz Grove, ...   \n",
       "\n",
       "      title_depurado                                  overview_depurado  \n",
       "2  [young, einstein]  [albert, einstein, tasmanian, apple, farmer, d...  \n",
       "3  [flight, command]  [rookie, flyer, ens, alan, drake, joins, famou...  \n",
       "4          [hounded]  [deals, obsessive, relationship, confused, tee...  "
      ]
     },
     "execution_count": 37,
     "metadata": {},
     "output_type": "execute_result"
    }
   ],
   "source": [
    "df['title_depurado'] = df['title'].apply(lambda x: limpiarTexto(x))\n",
    "df['overview_depurado'] = df['overview'].dropna().apply(lambda x: limpiarTexto(x))\n",
    "df.head(3)"
   ]
  },
  {
   "cell_type": "code",
   "execution_count": 38,
   "metadata": {},
   "outputs": [],
   "source": [
    "df = df.drop(['overview'],axis=1) #La columna overview (Pequeño resumen de la película) ha sido depurada y agregadas\n",
    "#sus palabras clave a overview_depurado, por lo que se puede eliminar. No así el título, que será el retorno del \n",
    "#sistema de recomendación."
   ]
  },
  {
   "cell_type": "code",
   "execution_count": 39,
   "metadata": {},
   "outputs": [],
   "source": [
    "# La columna overview_depurado presenta algunos campos que no son strings. \n",
    "# Por eso, convertimos esa columna, la de título, título depurado y la de género en texto.\n",
    "df['overview_depurado'] = df['overview_depurado'].astype(str)\n",
    "df['title'] = df['title'].astype(str)\n",
    "df['title_depurado'] = df['title_depurado'].astype(str)\n",
    "df['genresname'] = df['genresname'].astype(str)"
   ]
  },
  {
   "cell_type": "markdown",
   "metadata": {},
   "source": [
    "Ahora que se cuenta con los campos específicos, es preciso generar una columna que contenga la información de todos ellos. Esto simplificará la vectorización y análisis (en comparación a trabajar con varias columnas).\n",
    "Se busca lograr una representación completa de la película, agregando las palabras clave del título, género y descripción. Además, se ponderará o dará mayor valor al título y al género, para que tengan más importancia, destacándose en la matriz TF-IDF para mejorar la precisión de las recomendaciones."
   ]
  },
  {
   "cell_type": "code",
   "execution_count": 40,
   "metadata": {},
   "outputs": [],
   "source": [
    "df['descripcion_combinada'] = df['title_depurado']+ ' '+ df['title_depurado'] + ' ' + df['overview_depurado'] + ' ' + df['genresname']+ ' ' + df['genresname']+ ' ' + df['genresname']\n",
    "#Se crea la columna \"descripción combinada\", que contiene los valores del título (depurado), el resumen (depurado) y el género.\n",
    "# Como se dijo, se repiten los valores del título y género para que tengan mayor fuerza."
   ]
  },
  {
   "cell_type": "code",
   "execution_count": 41,
   "metadata": {},
   "outputs": [],
   "source": [
    "# Para realizar la vectorización, creamos una lista de stopwords de los dos idiomas\n",
    "stopwords_todas = list(set(en_stopwords).union(set(esp_stopwords)))"
   ]
  },
  {
   "cell_type": "markdown",
   "metadata": {},
   "source": [
    "Ahora que tenemos todos los valores, debemos vectorizar y calcular la similitud del coseno para definir nuestra función de recomendación.\n",
    "La vectorización se realiza con TFIDFVectorizer, con todas las stopwords guardadas."
   ]
  },
  {
   "cell_type": "code",
   "execution_count": 42,
   "metadata": {},
   "outputs": [
    {
     "name": "stdout",
     "output_type": "stream",
     "text": [
      "(34318, 5000)\n"
     ]
    }
   ],
   "source": [
    "# Vectorización utilizando TF-IDF con stop words en inglés y español\n",
    "vectorizacion = TfidfVectorizer(stop_words=stopwords_todas, max_features=5000) #Se definen los paráemetros para convertir el texto en una matriz.\n",
    "matrizTFIDF = vectorizacion.fit_transform(df['descripcion_combinada']) #Se crea una matriz TF-IDF sobre la columna \"descripción combinada\"\n",
    "print(matrizTFIDF.shape) #dimensiones de la matriz"
   ]
  },
  {
   "cell_type": "code",
   "execution_count": 43,
   "metadata": {},
   "outputs": [
    {
     "name": "stdout",
     "output_type": "stream",
     "text": [
      "(34318, 100)\n"
     ]
    }
   ],
   "source": [
    "# Realizamos la reducción de dimensionalidad\n",
    "val_singulares = TruncatedSVD(n_components=100) #Se reduce la dimensionalidad de la matriz a 100 dimensiones, basándose en los valores singulares más altos.\n",
    "matriz_sing = val_singulares.fit_transform(matrizTFIDF)#Aplica el ajuste y la transformación a la matriz TF-IDF\n",
    "print(matriz_sing.shape) #Nuevas dimensiones sobre los valores singulares más importantes"
   ]
  },
  {
   "cell_type": "markdown",
   "metadata": {},
   "source": [
    "La reducción de la dimensionalidad genera una notable mejora de eficacia. Al eliminarse los componentes principales, se eliminan los menos significativos, que podrían introducir ruido al análisis.\n",
    "Además, la menor dimensionalidad contribuye con la mejora del rendimiento y la capacidad de generalización del modelo."
   ]
  },
  {
   "cell_type": "code",
   "execution_count": 44,
   "metadata": {},
   "outputs": [],
   "source": [
    "# Ahora debemos calcular la similitud del coseno entre las filas de la matriz reducida (esto permitirá encontrar\n",
    "#  películas similares en función de sus características combinadas: título, descripción y género). \n",
    "# Además, permite analizar relaciones entre películas, lo que ayuda a mejorar la precisión del sistema de recomendación.\n",
    "\n",
    "similitud_coseno = cosine_similarity(matriz_sing, matriz_sing) #Para buscar la similitud, cruzamos dos veces la matriz."
   ]
  },
  {
   "cell_type": "markdown",
   "metadata": {},
   "source": [
    "Ahora estamos en condiciones de crear la función de recomendación."
   ]
  },
  {
   "cell_type": "code",
   "execution_count": 45,
   "metadata": {},
   "outputs": [],
   "source": [
    "def recomendacion(title, df=df, similitud_coseno=similitud_coseno):\n",
    "    try:\n",
    "        indice = df[df['title'].str.lower() == title.lower()].index[0] # Se define el índice de película similar\n",
    "        similitud = list(enumerate(similitud_coseno[indice])) \n",
    "        similitud = sorted(similitud, key=lambda x: x[1], reverse=True) #Se obtiene el score de similitud y se ordenan.\n",
    "        # Se obtienen las películas similares, dejando afuera la primera(que es el mismo título):\n",
    "        similitud = similitud[1:6]\n",
    "        indices_similares = [i[0] for i in similitud]\n",
    "        peliculas_similares = df['title'].iloc[indices_similares].tolist() #Se crea una lista con las películas\n",
    "        mensaje = f\"Se encontraron los siguientes títulos similares a '{title}':\"\n",
    "        print(mensaje)\n",
    "        # Retornar la lista de títulos similares\n",
    "        return peliculas_similares\n",
    "    except IndexError:\n",
    "        print(f\"No se encontró la película '{title}'. Por favor, intente con otro título.\")"
   ]
  },
  {
   "cell_type": "code",
   "execution_count": 47,
   "metadata": {},
   "outputs": [
    {
     "name": "stdout",
     "output_type": "stream",
     "text": [
      "Se encontraron los siguientes títulos similares a 'toy story 3':\n"
     ]
    },
    {
     "data": {
      "text/plain": [
       "['Yesterday Girl', 'The Muse', 'Scream of the Ants', 'Nuts', 'Ritual']"
      ]
     },
     "execution_count": 47,
     "metadata": {},
     "output_type": "execute_result"
    }
   ],
   "source": [
    "test = recomendacion('toy story 3')\n",
    "test"
   ]
  },
  {
   "cell_type": "code",
   "execution_count": 48,
   "metadata": {},
   "outputs": [
    {
     "name": "stdout",
     "output_type": "stream",
     "text": [
      "Se encontraron los siguientes títulos similares a 'Young Einstein':\n"
     ]
    },
    {
     "data": {
      "text/plain": [
       "['About Cherry',\n",
       " 'Virginia',\n",
       " 'Wintersleepers',\n",
       " 'Riot on Sunset Strip',\n",
       " 'The Saviour']"
      ]
     },
     "execution_count": 48,
     "metadata": {},
     "output_type": "execute_result"
    }
   ],
   "source": [
    "test2 = recomendacion('Young Einstein')\n",
    "test2"
   ]
  },
  {
   "cell_type": "code",
   "execution_count": 49,
   "metadata": {},
   "outputs": [
    {
     "name": "stdout",
     "output_type": "stream",
     "text": [
      "Se encontraron los siguientes títulos similares a 'Star Wars':\n"
     ]
    },
    {
     "data": {
      "text/plain": [
       "['The Spiderwick Chronicles',\n",
       " 'Escape to Witch Mountain',\n",
       " 'Paws',\n",
       " 'The Prince and the Pauper',\n",
       " 'Harry Potter and the Prisoner of Azkaban']"
      ]
     },
     "execution_count": 49,
     "metadata": {},
     "output_type": "execute_result"
    }
   ],
   "source": [
    "test3= recomendacion('Star Wars')\n",
    "test3"
   ]
  },
  {
   "cell_type": "code",
   "execution_count": 50,
   "metadata": {},
   "outputs": [
    {
     "name": "stdout",
     "output_type": "stream",
     "text": [
      "No se encontró la película 'askedddego'. Por favor, intente con otro título.\n"
     ]
    }
   ],
   "source": [
    "test_error = recomendacion('askedddego')\n",
    "test_error"
   ]
  },
  {
   "cell_type": "markdown",
   "metadata": {},
   "source": [
    "En este punto, encontramos problemas de memoria para deployar el Sistema de Recomendación. Por ese motivo, se van a ajustar y reducir el dataset."
   ]
  },
  {
   "cell_type": "code",
   "execution_count": 51,
   "metadata": {},
   "outputs": [
    {
     "data": {
      "text/html": [
       "<div>\n",
       "<style scoped>\n",
       "    .dataframe tbody tr th:only-of-type {\n",
       "        vertical-align: middle;\n",
       "    }\n",
       "\n",
       "    .dataframe tbody tr th {\n",
       "        vertical-align: top;\n",
       "    }\n",
       "\n",
       "    .dataframe thead th {\n",
       "        text-align: right;\n",
       "    }\n",
       "</style>\n",
       "<table border=\"1\" class=\"dataframe\">\n",
       "  <thead>\n",
       "    <tr style=\"text-align: right;\">\n",
       "      <th></th>\n",
       "      <th>id</th>\n",
       "      <th>spoken_languagesname</th>\n",
       "      <th>genresname</th>\n",
       "      <th>title</th>\n",
       "      <th>vote_average</th>\n",
       "      <th>popularity</th>\n",
       "      <th>status</th>\n",
       "      <th>production_countriesname</th>\n",
       "      <th>release_year</th>\n",
       "      <th>director</th>\n",
       "      <th>actor</th>\n",
       "      <th>title_depurado</th>\n",
       "      <th>overview_depurado</th>\n",
       "      <th>descripcion_combinada</th>\n",
       "    </tr>\n",
       "  </thead>\n",
       "  <tbody>\n",
       "    <tr>\n",
       "      <th>13856</th>\n",
       "      <td>211672</td>\n",
       "      <td>English</td>\n",
       "      <td>Comedy, Animation, Adventure, Family</td>\n",
       "      <td>Minions</td>\n",
       "      <td>6.4</td>\n",
       "      <td>547.488298</td>\n",
       "      <td>Released</td>\n",
       "      <td>United States of America</td>\n",
       "      <td>2015</td>\n",
       "      <td>Kyle Balda, Pierre Coffin</td>\n",
       "      <td>Sandra Bullock, Jon Hamm, Michael Keaton, Alli...</td>\n",
       "      <td>['minions']</td>\n",
       "      <td>['minions', 'stuart', 'kevin', 'bob', 'recruit...</td>\n",
       "      <td>['minions'] ['minions'] ['minions', 'stuart', ...</td>\n",
       "    </tr>\n",
       "    <tr>\n",
       "      <th>21460</th>\n",
       "      <td>297762</td>\n",
       "      <td>English, Deutsch</td>\n",
       "      <td>Fantasy, Action, Adventure</td>\n",
       "      <td>Wonder Woman</td>\n",
       "      <td>7.2</td>\n",
       "      <td>294.337037</td>\n",
       "      <td>Released</td>\n",
       "      <td>United States of America</td>\n",
       "      <td>2017</td>\n",
       "      <td>Patty Jenkins</td>\n",
       "      <td>Gal Gadot, Chris Pine, Robin Wright, Danny Hus...</td>\n",
       "      <td>['wonder', 'woman']</td>\n",
       "      <td>['amazon', 'princess', 'comes', 'world', 'man'...</td>\n",
       "      <td>['wonder', 'woman'] ['wonder', 'woman'] ['amaz...</td>\n",
       "    </tr>\n",
       "    <tr>\n",
       "      <th>23352</th>\n",
       "      <td>321612</td>\n",
       "      <td>English</td>\n",
       "      <td>Fantasy, Romance, Family</td>\n",
       "      <td>Beauty and the Beast</td>\n",
       "      <td>6.8</td>\n",
       "      <td>287.253654</td>\n",
       "      <td>Released</td>\n",
       "      <td>United Kingdom</td>\n",
       "      <td>2017</td>\n",
       "      <td>Bill Condon</td>\n",
       "      <td>Emma Watson, Dan Stevens, Luke Evans, Kevin Kl...</td>\n",
       "      <td>['beauty', 'beast']</td>\n",
       "      <td>['adaptation', 'disney', 'version', 'classic',...</td>\n",
       "      <td>['beauty', 'beast'] ['beauty', 'beast'] ['adap...</td>\n",
       "    </tr>\n",
       "    <tr>\n",
       "      <th>24696</th>\n",
       "      <td>339403</td>\n",
       "      <td>English</td>\n",
       "      <td>Action, Crime</td>\n",
       "      <td>Baby Driver</td>\n",
       "      <td>7.2</td>\n",
       "      <td>228.032744</td>\n",
       "      <td>Released</td>\n",
       "      <td>United Kingdom</td>\n",
       "      <td>2017</td>\n",
       "      <td>Edgar Wright</td>\n",
       "      <td>Ansel Elgort, Lily James, Kevin Spacey, Jamie ...</td>\n",
       "      <td>['baby', 'driver']</td>\n",
       "      <td>['coerced', 'working', 'crime', 'boss', 'young...</td>\n",
       "      <td>['baby', 'driver'] ['baby', 'driver'] ['coerce...</td>\n",
       "    </tr>\n",
       "    <tr>\n",
       "      <th>10545</th>\n",
       "      <td>177572</td>\n",
       "      <td>English</td>\n",
       "      <td>Animation, Adventure, Family, Action, Comedy</td>\n",
       "      <td>Big Hero 6</td>\n",
       "      <td>7.8</td>\n",
       "      <td>213.849907</td>\n",
       "      <td>Released</td>\n",
       "      <td>United States of America</td>\n",
       "      <td>2014</td>\n",
       "      <td>Chris Williams, Don Hall</td>\n",
       "      <td>Scott Adsit, Ryan Potter, Daniel Henney, T.J. ...</td>\n",
       "      <td>['big', 'hero']</td>\n",
       "      <td>['special', 'bond', 'develops', 'inflatable', ...</td>\n",
       "      <td>['big', 'hero'] ['big', 'hero'] ['special', 'b...</td>\n",
       "    </tr>\n",
       "  </tbody>\n",
       "</table>\n",
       "</div>"
      ],
      "text/plain": [
       "           id spoken_languagesname  \\\n",
       "13856  211672              English   \n",
       "21460  297762     English, Deutsch   \n",
       "23352  321612              English   \n",
       "24696  339403              English   \n",
       "10545  177572              English   \n",
       "\n",
       "                                         genresname                 title  \\\n",
       "13856          Comedy, Animation, Adventure, Family               Minions   \n",
       "21460                    Fantasy, Action, Adventure          Wonder Woman   \n",
       "23352                      Fantasy, Romance, Family  Beauty and the Beast   \n",
       "24696                                 Action, Crime           Baby Driver   \n",
       "10545  Animation, Adventure, Family, Action, Comedy            Big Hero 6   \n",
       "\n",
       "       vote_average  popularity    status  production_countriesname  \\\n",
       "13856           6.4  547.488298  Released  United States of America   \n",
       "21460           7.2  294.337037  Released  United States of America   \n",
       "23352           6.8  287.253654  Released            United Kingdom   \n",
       "24696           7.2  228.032744  Released            United Kingdom   \n",
       "10545           7.8  213.849907  Released  United States of America   \n",
       "\n",
       "       release_year                   director  \\\n",
       "13856          2015  Kyle Balda, Pierre Coffin   \n",
       "21460          2017              Patty Jenkins   \n",
       "23352          2017                Bill Condon   \n",
       "24696          2017               Edgar Wright   \n",
       "10545          2014   Chris Williams, Don Hall   \n",
       "\n",
       "                                                   actor       title_depurado  \\\n",
       "13856  Sandra Bullock, Jon Hamm, Michael Keaton, Alli...          ['minions']   \n",
       "21460  Gal Gadot, Chris Pine, Robin Wright, Danny Hus...  ['wonder', 'woman']   \n",
       "23352  Emma Watson, Dan Stevens, Luke Evans, Kevin Kl...  ['beauty', 'beast']   \n",
       "24696  Ansel Elgort, Lily James, Kevin Spacey, Jamie ...   ['baby', 'driver']   \n",
       "10545  Scott Adsit, Ryan Potter, Daniel Henney, T.J. ...      ['big', 'hero']   \n",
       "\n",
       "                                       overview_depurado  \\\n",
       "13856  ['minions', 'stuart', 'kevin', 'bob', 'recruit...   \n",
       "21460  ['amazon', 'princess', 'comes', 'world', 'man'...   \n",
       "23352  ['adaptation', 'disney', 'version', 'classic',...   \n",
       "24696  ['coerced', 'working', 'crime', 'boss', 'young...   \n",
       "10545  ['special', 'bond', 'develops', 'inflatable', ...   \n",
       "\n",
       "                                   descripcion_combinada  \n",
       "13856  ['minions'] ['minions'] ['minions', 'stuart', ...  \n",
       "21460  ['wonder', 'woman'] ['wonder', 'woman'] ['amaz...  \n",
       "23352  ['beauty', 'beast'] ['beauty', 'beast'] ['adap...  \n",
       "24696  ['baby', 'driver'] ['baby', 'driver'] ['coerce...  \n",
       "10545  ['big', 'hero'] ['big', 'hero'] ['special', 'b...  "
      ]
     },
     "execution_count": 51,
     "metadata": {},
     "output_type": "execute_result"
    }
   ],
   "source": [
    "# En primer lugar, vamos a ordenar el DataFrame por 'vote_average' en orden descendente\n",
    "df_sorted = df.sort_values(by='popularity', ascending=False)\n",
    "df_sorted.head()"
   ]
  },
  {
   "cell_type": "code",
   "execution_count": 52,
   "metadata": {},
   "outputs": [
    {
     "data": {
      "text/html": [
       "<div>\n",
       "<style scoped>\n",
       "    .dataframe tbody tr th:only-of-type {\n",
       "        vertical-align: middle;\n",
       "    }\n",
       "\n",
       "    .dataframe tbody tr th {\n",
       "        vertical-align: top;\n",
       "    }\n",
       "\n",
       "    .dataframe thead th {\n",
       "        text-align: right;\n",
       "    }\n",
       "</style>\n",
       "<table border=\"1\" class=\"dataframe\">\n",
       "  <thead>\n",
       "    <tr style=\"text-align: right;\">\n",
       "      <th></th>\n",
       "      <th>id</th>\n",
       "      <th>spoken_languagesname</th>\n",
       "      <th>genresname</th>\n",
       "      <th>title</th>\n",
       "      <th>vote_average</th>\n",
       "      <th>popularity</th>\n",
       "      <th>status</th>\n",
       "      <th>production_countriesname</th>\n",
       "      <th>release_year</th>\n",
       "      <th>director</th>\n",
       "      <th>actor</th>\n",
       "      <th>title_depurado</th>\n",
       "      <th>overview_depurado</th>\n",
       "      <th>descripcion_combinada</th>\n",
       "    </tr>\n",
       "  </thead>\n",
       "  <tbody>\n",
       "    <tr>\n",
       "      <th>13856</th>\n",
       "      <td>211672</td>\n",
       "      <td>English</td>\n",
       "      <td>Comedy, Animation, Adventure, Family</td>\n",
       "      <td>Minions</td>\n",
       "      <td>6.4</td>\n",
       "      <td>547.488298</td>\n",
       "      <td>Released</td>\n",
       "      <td>United States of America</td>\n",
       "      <td>2015</td>\n",
       "      <td>Kyle Balda, Pierre Coffin</td>\n",
       "      <td>Sandra Bullock, Jon Hamm, Michael Keaton, Alli...</td>\n",
       "      <td>['minions']</td>\n",
       "      <td>['minions', 'stuart', 'kevin', 'bob', 'recruit...</td>\n",
       "      <td>['minions'] ['minions'] ['minions', 'stuart', ...</td>\n",
       "    </tr>\n",
       "    <tr>\n",
       "      <th>21460</th>\n",
       "      <td>297762</td>\n",
       "      <td>English, Deutsch</td>\n",
       "      <td>Fantasy, Action, Adventure</td>\n",
       "      <td>Wonder Woman</td>\n",
       "      <td>7.2</td>\n",
       "      <td>294.337037</td>\n",
       "      <td>Released</td>\n",
       "      <td>United States of America</td>\n",
       "      <td>2017</td>\n",
       "      <td>Patty Jenkins</td>\n",
       "      <td>Gal Gadot, Chris Pine, Robin Wright, Danny Hus...</td>\n",
       "      <td>['wonder', 'woman']</td>\n",
       "      <td>['amazon', 'princess', 'comes', 'world', 'man'...</td>\n",
       "      <td>['wonder', 'woman'] ['wonder', 'woman'] ['amaz...</td>\n",
       "    </tr>\n",
       "    <tr>\n",
       "      <th>23352</th>\n",
       "      <td>321612</td>\n",
       "      <td>English</td>\n",
       "      <td>Fantasy, Romance, Family</td>\n",
       "      <td>Beauty and the Beast</td>\n",
       "      <td>6.8</td>\n",
       "      <td>287.253654</td>\n",
       "      <td>Released</td>\n",
       "      <td>United Kingdom</td>\n",
       "      <td>2017</td>\n",
       "      <td>Bill Condon</td>\n",
       "      <td>Emma Watson, Dan Stevens, Luke Evans, Kevin Kl...</td>\n",
       "      <td>['beauty', 'beast']</td>\n",
       "      <td>['adaptation', 'disney', 'version', 'classic',...</td>\n",
       "      <td>['beauty', 'beast'] ['beauty', 'beast'] ['adap...</td>\n",
       "    </tr>\n",
       "    <tr>\n",
       "      <th>24696</th>\n",
       "      <td>339403</td>\n",
       "      <td>English</td>\n",
       "      <td>Action, Crime</td>\n",
       "      <td>Baby Driver</td>\n",
       "      <td>7.2</td>\n",
       "      <td>228.032744</td>\n",
       "      <td>Released</td>\n",
       "      <td>United Kingdom</td>\n",
       "      <td>2017</td>\n",
       "      <td>Edgar Wright</td>\n",
       "      <td>Ansel Elgort, Lily James, Kevin Spacey, Jamie ...</td>\n",
       "      <td>['baby', 'driver']</td>\n",
       "      <td>['coerced', 'working', 'crime', 'boss', 'young...</td>\n",
       "      <td>['baby', 'driver'] ['baby', 'driver'] ['coerce...</td>\n",
       "    </tr>\n",
       "    <tr>\n",
       "      <th>10545</th>\n",
       "      <td>177572</td>\n",
       "      <td>English</td>\n",
       "      <td>Animation, Adventure, Family, Action, Comedy</td>\n",
       "      <td>Big Hero 6</td>\n",
       "      <td>7.8</td>\n",
       "      <td>213.849907</td>\n",
       "      <td>Released</td>\n",
       "      <td>United States of America</td>\n",
       "      <td>2014</td>\n",
       "      <td>Chris Williams, Don Hall</td>\n",
       "      <td>Scott Adsit, Ryan Potter, Daniel Henney, T.J. ...</td>\n",
       "      <td>['big', 'hero']</td>\n",
       "      <td>['special', 'bond', 'develops', 'inflatable', ...</td>\n",
       "      <td>['big', 'hero'] ['big', 'hero'] ['special', 'b...</td>\n",
       "    </tr>\n",
       "  </tbody>\n",
       "</table>\n",
       "</div>"
      ],
      "text/plain": [
       "           id spoken_languagesname  \\\n",
       "13856  211672              English   \n",
       "21460  297762     English, Deutsch   \n",
       "23352  321612              English   \n",
       "24696  339403              English   \n",
       "10545  177572              English   \n",
       "\n",
       "                                         genresname                 title  \\\n",
       "13856          Comedy, Animation, Adventure, Family               Minions   \n",
       "21460                    Fantasy, Action, Adventure          Wonder Woman   \n",
       "23352                      Fantasy, Romance, Family  Beauty and the Beast   \n",
       "24696                                 Action, Crime           Baby Driver   \n",
       "10545  Animation, Adventure, Family, Action, Comedy            Big Hero 6   \n",
       "\n",
       "       vote_average  popularity    status  production_countriesname  \\\n",
       "13856           6.4  547.488298  Released  United States of America   \n",
       "21460           7.2  294.337037  Released  United States of America   \n",
       "23352           6.8  287.253654  Released            United Kingdom   \n",
       "24696           7.2  228.032744  Released            United Kingdom   \n",
       "10545           7.8  213.849907  Released  United States of America   \n",
       "\n",
       "       release_year                   director  \\\n",
       "13856          2015  Kyle Balda, Pierre Coffin   \n",
       "21460          2017              Patty Jenkins   \n",
       "23352          2017                Bill Condon   \n",
       "24696          2017               Edgar Wright   \n",
       "10545          2014   Chris Williams, Don Hall   \n",
       "\n",
       "                                                   actor       title_depurado  \\\n",
       "13856  Sandra Bullock, Jon Hamm, Michael Keaton, Alli...          ['minions']   \n",
       "21460  Gal Gadot, Chris Pine, Robin Wright, Danny Hus...  ['wonder', 'woman']   \n",
       "23352  Emma Watson, Dan Stevens, Luke Evans, Kevin Kl...  ['beauty', 'beast']   \n",
       "24696  Ansel Elgort, Lily James, Kevin Spacey, Jamie ...   ['baby', 'driver']   \n",
       "10545  Scott Adsit, Ryan Potter, Daniel Henney, T.J. ...      ['big', 'hero']   \n",
       "\n",
       "                                       overview_depurado  \\\n",
       "13856  ['minions', 'stuart', 'kevin', 'bob', 'recruit...   \n",
       "21460  ['amazon', 'princess', 'comes', 'world', 'man'...   \n",
       "23352  ['adaptation', 'disney', 'version', 'classic',...   \n",
       "24696  ['coerced', 'working', 'crime', 'boss', 'young...   \n",
       "10545  ['special', 'bond', 'develops', 'inflatable', ...   \n",
       "\n",
       "                                   descripcion_combinada  \n",
       "13856  ['minions'] ['minions'] ['minions', 'stuart', ...  \n",
       "21460  ['wonder', 'woman'] ['wonder', 'woman'] ['amaz...  \n",
       "23352  ['beauty', 'beast'] ['beauty', 'beast'] ['adap...  \n",
       "24696  ['baby', 'driver'] ['baby', 'driver'] ['coerce...  \n",
       "10545  ['big', 'hero'] ['big', 'hero'] ['special', 'b...  "
      ]
     },
     "execution_count": 52,
     "metadata": {},
     "output_type": "execute_result"
    }
   ],
   "source": [
    "# Ahora realizaremos un ranking de las 6 mil películas con mejor ranking\n",
    "df_top = df_sorted.head(6000)\n",
    "df_top.head()"
   ]
  },
  {
   "cell_type": "code",
   "execution_count": 53,
   "metadata": {},
   "outputs": [
    {
     "data": {
      "text/plain": [
       "Index(['id', 'spoken_languagesname', 'genresname', 'title', 'vote_average',\n",
       "       'popularity', 'status', 'production_countriesname', 'release_year',\n",
       "       'director', 'actor', 'title_depurado', 'overview_depurado',\n",
       "       'descripcion_combinada'],\n",
       "      dtype='object')"
      ]
     },
     "execution_count": 53,
     "metadata": {},
     "output_type": "execute_result"
    }
   ],
   "source": [
    "df_top.columns"
   ]
  },
  {
   "cell_type": "code",
   "execution_count": 57,
   "metadata": {},
   "outputs": [],
   "source": [
    "columnas_out = ['spoken_languagesname', 'vote_average', 'popularity', 'status', 'production_countriesname', 'release_year', 'director', 'actor']"
   ]
  },
  {
   "cell_type": "code",
   "execution_count": 60,
   "metadata": {},
   "outputs": [
    {
     "data": {
      "text/html": [
       "<div>\n",
       "<style scoped>\n",
       "    .dataframe tbody tr th:only-of-type {\n",
       "        vertical-align: middle;\n",
       "    }\n",
       "\n",
       "    .dataframe tbody tr th {\n",
       "        vertical-align: top;\n",
       "    }\n",
       "\n",
       "    .dataframe thead th {\n",
       "        text-align: right;\n",
       "    }\n",
       "</style>\n",
       "<table border=\"1\" class=\"dataframe\">\n",
       "  <thead>\n",
       "    <tr style=\"text-align: right;\">\n",
       "      <th></th>\n",
       "      <th>id</th>\n",
       "      <th>genresname</th>\n",
       "      <th>title</th>\n",
       "      <th>title_depurado</th>\n",
       "      <th>overview_depurado</th>\n",
       "      <th>descripcion_combinada</th>\n",
       "    </tr>\n",
       "  </thead>\n",
       "  <tbody>\n",
       "    <tr>\n",
       "      <th>13856</th>\n",
       "      <td>211672</td>\n",
       "      <td>Comedy, Animation, Adventure, Family</td>\n",
       "      <td>Minions</td>\n",
       "      <td>['minions']</td>\n",
       "      <td>['minions', 'stuart', 'kevin', 'bob', 'recruit...</td>\n",
       "      <td>['minions'] ['minions'] ['minions', 'stuart', ...</td>\n",
       "    </tr>\n",
       "  </tbody>\n",
       "</table>\n",
       "</div>"
      ],
      "text/plain": [
       "           id                            genresname    title title_depurado  \\\n",
       "13856  211672  Comedy, Animation, Adventure, Family  Minions    ['minions']   \n",
       "\n",
       "                                       overview_depurado  \\\n",
       "13856  ['minions', 'stuart', 'kevin', 'bob', 'recruit...   \n",
       "\n",
       "                                   descripcion_combinada  \n",
       "13856  ['minions'] ['minions'] ['minions', 'stuart', ...  "
      ]
     },
     "execution_count": 60,
     "metadata": {},
     "output_type": "execute_result"
    }
   ],
   "source": [
    "df_top=df_top.drop(columnas_out, axis=1)\n",
    "df_top.head(1)"
   ]
  },
  {
   "cell_type": "code",
   "execution_count": 68,
   "metadata": {},
   "outputs": [
    {
     "name": "stdout",
     "output_type": "stream",
     "text": [
      "(6000, 5000)\n"
     ]
    }
   ],
   "source": [
    "# Vectorización utilizando TF-IDF con stop words en inglés y español\n",
    "vectorizacion = TfidfVectorizer(stop_words=stopwords_todas, max_features=5000) #Se definen los paráemetros para convertir el texto en una matriz.\n",
    "matrizTFIDF = vectorizacion.fit_transform(df_top['descripcion_combinada']) #Se crea una matriz TF-IDF sobre la columna \"descripción combinada\"\n",
    "print(matrizTFIDF.shape) #dimensiones de la matriz"
   ]
  },
  {
   "cell_type": "code",
   "execution_count": 69,
   "metadata": {},
   "outputs": [
    {
     "name": "stdout",
     "output_type": "stream",
     "text": [
      "(6000, 100)\n"
     ]
    }
   ],
   "source": [
    "# Realizamos la reducción de dimensionalidad\n",
    "val_singulares = TruncatedSVD(n_components=100) #Se reduce la dimensionalidad de la matriz a 100 dimensiones, basándose en los valores singulares más altos.\n",
    "matriz_sing = val_singulares.fit_transform(matrizTFIDF)#Aplica el ajuste y la transformación a la matriz TF-IDF\n",
    "print(matriz_sing.shape) #Nuevas dimensiones sobre los valores singulares más importantes"
   ]
  },
  {
   "cell_type": "code",
   "execution_count": 70,
   "metadata": {},
   "outputs": [],
   "source": [
    "# Ahora debemos calcular la similitud del coseno entre las filas de la matriz reducida (esto permitirá encontrar\n",
    "#  películas similares en función de sus características combinadas: título, descripción y género). \n",
    "# Además, permite analizar relaciones entre películas, lo que ayuda a mejorar la precisión del sistema de recomendación.\n",
    "\n",
    "similitud_coseno = cosine_similarity(matriz_sing, matriz_sing) #Para buscar la similitud, cruzamos dos veces la matriz."
   ]
  },
  {
   "cell_type": "code",
   "execution_count": 79,
   "metadata": {},
   "outputs": [],
   "source": [
    "def recomendacion(title, df=df_top, similitud_coseno=similitud_coseno):\n",
    "    try:\n",
    "        indice = df_top[df_top['title'].str.lower() == title.lower()].index[0] # Se define el índice de película similar\n",
    "        similitud = list(enumerate(similitud_coseno[indice])) \n",
    "        similitud = sorted(similitud, key=lambda x: x[1], reverse=True) #Se obtiene el score de similitud y se ordenan.\n",
    "        # Se obtienen las películas similares, dejando afuera la primera(que es el mismo título):\n",
    "        similitud = similitud[1:6]\n",
    "        indices_similares = [i[0] for i in similitud]\n",
    "        peliculas_similares = df['title'].iloc[indices_similares].tolist() #Se crea una lista con las películas\n",
    "        mensaje = f\"Se encontraron los siguientes títulos similares a '{title}':\"\n",
    "        print(mensaje)\n",
    "        # Retornar la lista de títulos similares\n",
    "        return peliculas_similares\n",
    "    except IndexError:\n",
    "        print(f\"No se encontró la película '{title}'. Por favor, intente con otro título.\")"
   ]
  },
  {
   "cell_type": "code",
   "execution_count": null,
   "metadata": {},
   "outputs": [],
   "source": [
    "indice = df_top[df_top['title'].str.strip().str.lower() == title.strip().lower()].index[0]"
   ]
  },
  {
   "cell_type": "code",
   "execution_count": 73,
   "metadata": {},
   "outputs": [
    {
     "name": "stdout",
     "output_type": "stream",
     "text": [
      "Se encontraron los siguientes títulos similares a 'Star wars':\n"
     ]
    },
    {
     "data": {
      "text/plain": [
       "['Raiders of the Lost Ark',\n",
       " 'Operation Mekong',\n",
       " 'Call of Heroes',\n",
       " 'Indiana Jones and the Temple of Doom',\n",
       " 'The Quest']"
      ]
     },
     "execution_count": 73,
     "metadata": {},
     "output_type": "execute_result"
    }
   ],
   "source": [
    "test4= recomendacion('Star wars')\n",
    "test4"
   ]
  },
  {
   "cell_type": "code",
   "execution_count": 89,
   "metadata": {},
   "outputs": [
    {
     "name": "stdout",
     "output_type": "stream",
     "text": [
      "Se encontraron los siguientes títulos similares a 'toy story 3':\n"
     ]
    },
    {
     "data": {
      "text/plain": [
       "['Drinking Buddies', 'About Alex', 'Reality Bites', 'Birdman', 'Rough Night']"
      ]
     },
     "execution_count": 89,
     "metadata": {},
     "output_type": "execute_result"
    }
   ],
   "source": [
    "test5=recomendacion('toy story 3')\n",
    "test5"
   ]
  },
  {
   "cell_type": "code",
   "execution_count": 31,
   "metadata": {},
   "outputs": [
    {
     "name": "stdout",
     "output_type": "stream",
     "text": [
      "No se encontró la película 'asdasd'. Por favor, intente con otro título.\n"
     ]
    }
   ],
   "source": [
    "test_error2=recomendacion('asdasd')\n",
    "test_error2"
   ]
  },
  {
   "cell_type": "code",
   "execution_count": 91,
   "metadata": {},
   "outputs": [],
   "source": [
    "df_top.to_parquet(r'C:\\Users\\GASTON\\Desktop\\PI1\\DATA\\recomendacion.parquet',index=True)"
   ]
  },
  {
   "cell_type": "code",
   "execution_count": 92,
   "metadata": {},
   "outputs": [
    {
     "data": {
      "text/html": [
       "<div>\n",
       "<style scoped>\n",
       "    .dataframe tbody tr th:only-of-type {\n",
       "        vertical-align: middle;\n",
       "    }\n",
       "\n",
       "    .dataframe tbody tr th {\n",
       "        vertical-align: top;\n",
       "    }\n",
       "\n",
       "    .dataframe thead th {\n",
       "        text-align: right;\n",
       "    }\n",
       "</style>\n",
       "<table border=\"1\" class=\"dataframe\">\n",
       "  <thead>\n",
       "    <tr style=\"text-align: right;\">\n",
       "      <th></th>\n",
       "      <th>id</th>\n",
       "      <th>genresname</th>\n",
       "      <th>title</th>\n",
       "      <th>title_depurado</th>\n",
       "      <th>overview_depurado</th>\n",
       "      <th>descripcion_combinada</th>\n",
       "    </tr>\n",
       "  </thead>\n",
       "  <tbody>\n",
       "    <tr>\n",
       "      <th>13856</th>\n",
       "      <td>211672</td>\n",
       "      <td>Comedy, Animation, Adventure, Family</td>\n",
       "      <td>Minions</td>\n",
       "      <td>['minions']</td>\n",
       "      <td>['minions', 'stuart', 'kevin', 'bob', 'recruit...</td>\n",
       "      <td>['minions'] ['minions'] ['minions', 'stuart', ...</td>\n",
       "    </tr>\n",
       "    <tr>\n",
       "      <th>21460</th>\n",
       "      <td>297762</td>\n",
       "      <td>Fantasy, Action, Adventure</td>\n",
       "      <td>Wonder Woman</td>\n",
       "      <td>['wonder', 'woman']</td>\n",
       "      <td>['amazon', 'princess', 'comes', 'world', 'man'...</td>\n",
       "      <td>['wonder', 'woman'] ['wonder', 'woman'] ['amaz...</td>\n",
       "    </tr>\n",
       "    <tr>\n",
       "      <th>23352</th>\n",
       "      <td>321612</td>\n",
       "      <td>Fantasy, Romance, Family</td>\n",
       "      <td>Beauty and the Beast</td>\n",
       "      <td>['beauty', 'beast']</td>\n",
       "      <td>['adaptation', 'disney', 'version', 'classic',...</td>\n",
       "      <td>['beauty', 'beast'] ['beauty', 'beast'] ['adap...</td>\n",
       "    </tr>\n",
       "    <tr>\n",
       "      <th>24696</th>\n",
       "      <td>339403</td>\n",
       "      <td>Action, Crime</td>\n",
       "      <td>Baby Driver</td>\n",
       "      <td>['baby', 'driver']</td>\n",
       "      <td>['coerced', 'working', 'crime', 'boss', 'young...</td>\n",
       "      <td>['baby', 'driver'] ['baby', 'driver'] ['coerce...</td>\n",
       "    </tr>\n",
       "    <tr>\n",
       "      <th>10545</th>\n",
       "      <td>177572</td>\n",
       "      <td>Animation, Adventure, Family, Action, Comedy</td>\n",
       "      <td>Big Hero 6</td>\n",
       "      <td>['big', 'hero']</td>\n",
       "      <td>['special', 'bond', 'develops', 'inflatable', ...</td>\n",
       "      <td>['big', 'hero'] ['big', 'hero'] ['special', 'b...</td>\n",
       "    </tr>\n",
       "  </tbody>\n",
       "</table>\n",
       "</div>"
      ],
      "text/plain": [
       "           id                                    genresname  \\\n",
       "13856  211672          Comedy, Animation, Adventure, Family   \n",
       "21460  297762                    Fantasy, Action, Adventure   \n",
       "23352  321612                      Fantasy, Romance, Family   \n",
       "24696  339403                                 Action, Crime   \n",
       "10545  177572  Animation, Adventure, Family, Action, Comedy   \n",
       "\n",
       "                      title       title_depurado  \\\n",
       "13856               Minions          ['minions']   \n",
       "21460          Wonder Woman  ['wonder', 'woman']   \n",
       "23352  Beauty and the Beast  ['beauty', 'beast']   \n",
       "24696           Baby Driver   ['baby', 'driver']   \n",
       "10545            Big Hero 6      ['big', 'hero']   \n",
       "\n",
       "                                       overview_depurado  \\\n",
       "13856  ['minions', 'stuart', 'kevin', 'bob', 'recruit...   \n",
       "21460  ['amazon', 'princess', 'comes', 'world', 'man'...   \n",
       "23352  ['adaptation', 'disney', 'version', 'classic',...   \n",
       "24696  ['coerced', 'working', 'crime', 'boss', 'young...   \n",
       "10545  ['special', 'bond', 'develops', 'inflatable', ...   \n",
       "\n",
       "                                   descripcion_combinada  \n",
       "13856  ['minions'] ['minions'] ['minions', 'stuart', ...  \n",
       "21460  ['wonder', 'woman'] ['wonder', 'woman'] ['amaz...  \n",
       "23352  ['beauty', 'beast'] ['beauty', 'beast'] ['adap...  \n",
       "24696  ['baby', 'driver'] ['baby', 'driver'] ['coerce...  \n",
       "10545  ['big', 'hero'] ['big', 'hero'] ['special', 'b...  "
      ]
     },
     "execution_count": 92,
     "metadata": {},
     "output_type": "execute_result"
    }
   ],
   "source": [
    "prueba = pd.read_parquet(r'C:\\Users\\GASTON\\Desktop\\PI1\\DATA\\recomendacion.parquet')\n",
    "prueba.head()"
   ]
  }
 ],
 "metadata": {
  "kernelspec": {
   "display_name": "Python 3",
   "language": "python",
   "name": "python3"
  },
  "language_info": {
   "codemirror_mode": {
    "name": "ipython",
    "version": 3
   },
   "file_extension": ".py",
   "mimetype": "text/x-python",
   "name": "python",
   "nbconvert_exporter": "python",
   "pygments_lexer": "ipython3",
   "version": "3.11.9"
  }
 },
 "nbformat": 4,
 "nbformat_minor": 2
}
