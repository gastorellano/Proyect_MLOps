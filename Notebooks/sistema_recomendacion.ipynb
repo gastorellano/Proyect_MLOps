{
 "cells": [
  {
   "cell_type": "markdown",
   "metadata": {},
   "source": [
    "# Sistema de Recomendación"
   ]
  },
  {
   "cell_type": "code",
   "execution_count": 39,
   "metadata": {},
   "outputs": [],
   "source": [
    "import pandas as pd\n",
    "import numpy as np\n",
    "import string \n",
    "from nltk.corpus import stopwords\n",
    "from nltk.tokenize import word_tokenize\n",
    "from sklearn.feature_extraction.text import TfidfVectorizer\n",
    "from sklearn.metrics.pairwise import cosine_similarity\n",
    "from sklearn.decomposition import TruncatedSVD\n",
    "import nltk as nlt\n",
    "from fastapi import HTTPException"
   ]
  },
  {
   "cell_type": "code",
   "execution_count": 2,
   "metadata": {},
   "outputs": [],
   "source": [
    "df = pd.read_parquet(r'C:\\Users\\GASTON\\Desktop\\PI1\\DATA\\df_mlops.parquet')\n",
    "#Creamos un DataFrame a partir del dataset previamente depurado"
   ]
  },
  {
   "cell_type": "code",
   "execution_count": 3,
   "metadata": {},
   "outputs": [
    {
     "data": {
      "text/html": [
       "<div>\n",
       "<style scoped>\n",
       "    .dataframe tbody tr th:only-of-type {\n",
       "        vertical-align: middle;\n",
       "    }\n",
       "\n",
       "    .dataframe tbody tr th {\n",
       "        vertical-align: top;\n",
       "    }\n",
       "\n",
       "    .dataframe thead th {\n",
       "        text-align: right;\n",
       "    }\n",
       "</style>\n",
       "<table border=\"1\" class=\"dataframe\">\n",
       "  <thead>\n",
       "    <tr style=\"text-align: right;\">\n",
       "      <th></th>\n",
       "      <th>id</th>\n",
       "      <th>spoken_languagesname</th>\n",
       "      <th>genresname</th>\n",
       "      <th>title</th>\n",
       "      <th>overview</th>\n",
       "      <th>vote_average</th>\n",
       "      <th>status</th>\n",
       "      <th>production_countriesname</th>\n",
       "      <th>release_year</th>\n",
       "      <th>director</th>\n",
       "      <th>actor</th>\n",
       "    </tr>\n",
       "  </thead>\n",
       "  <tbody>\n",
       "    <tr>\n",
       "      <th>2</th>\n",
       "      <td>10001</td>\n",
       "      <td>English</td>\n",
       "      <td>Science Fiction, Comedy</td>\n",
       "      <td>Young Einstein</td>\n",
       "      <td>Albert Einstein is the son of a Tasmanian appl...</td>\n",
       "      <td>4.5</td>\n",
       "      <td>Released</td>\n",
       "      <td>Australia</td>\n",
       "      <td>1988</td>\n",
       "      <td>Yahoo Serious</td>\n",
       "      <td>Yahoo Serious, Odile Le Clezio, Peewee Wilson,...</td>\n",
       "    </tr>\n",
       "    <tr>\n",
       "      <th>3</th>\n",
       "      <td>100010</td>\n",
       "      <td>English</td>\n",
       "      <td>Drama, War</td>\n",
       "      <td>Flight Command</td>\n",
       "      <td>A rookie flyer, Ens. Alan Drake, joins the fam...</td>\n",
       "      <td>6.0</td>\n",
       "      <td>Released</td>\n",
       "      <td>United States of America</td>\n",
       "      <td>1940</td>\n",
       "      <td>Frank Borzage</td>\n",
       "      <td>Robert Taylor, Ruth Hussey, Walter Pidgeon, Pa...</td>\n",
       "    </tr>\n",
       "    <tr>\n",
       "      <th>4</th>\n",
       "      <td>100017</td>\n",
       "      <td>Deutsch</td>\n",
       "      <td>Drama</td>\n",
       "      <td>Hounded</td>\n",
       "      <td>Deals with the obsessive relationship between ...</td>\n",
       "      <td>4.8</td>\n",
       "      <td>Released</td>\n",
       "      <td>Germany</td>\n",
       "      <td>2006</td>\n",
       "      <td>Angelina Maccarone</td>\n",
       "      <td>Kostja Ullmann, Maren Kroymann, Moritz Grove, ...</td>\n",
       "    </tr>\n",
       "  </tbody>\n",
       "</table>\n",
       "</div>"
      ],
      "text/plain": [
       "       id spoken_languagesname               genresname           title  \\\n",
       "2   10001              English  Science Fiction, Comedy  Young Einstein   \n",
       "3  100010              English               Drama, War  Flight Command   \n",
       "4  100017              Deutsch                    Drama         Hounded   \n",
       "\n",
       "                                            overview  vote_average    status  \\\n",
       "2  Albert Einstein is the son of a Tasmanian appl...           4.5  Released   \n",
       "3  A rookie flyer, Ens. Alan Drake, joins the fam...           6.0  Released   \n",
       "4  Deals with the obsessive relationship between ...           4.8  Released   \n",
       "\n",
       "   production_countriesname  release_year            director  \\\n",
       "2                 Australia          1988       Yahoo Serious   \n",
       "3  United States of America          1940       Frank Borzage   \n",
       "4                   Germany          2006  Angelina Maccarone   \n",
       "\n",
       "                                               actor  \n",
       "2  Yahoo Serious, Odile Le Clezio, Peewee Wilson,...  \n",
       "3  Robert Taylor, Ruth Hussey, Walter Pidgeon, Pa...  \n",
       "4  Kostja Ullmann, Maren Kroymann, Moritz Grove, ...  "
      ]
     },
     "execution_count": 3,
     "metadata": {},
     "output_type": "execute_result"
    }
   ],
   "source": [
    "df.head(3)"
   ]
  },
  {
   "cell_type": "code",
   "execution_count": 4,
   "metadata": {},
   "outputs": [
    {
     "name": "stderr",
     "output_type": "stream",
     "text": [
      "[nltk_data] Downloading package stopwords to\n",
      "[nltk_data]     C:\\Users\\GASTON/nltk_data...\n",
      "[nltk_data]   Unzipping corpora\\stopwords.zip.\n"
     ]
    }
   ],
   "source": [
    "#Como primer paso, debemos limpiar y tokenizar el texto.\n",
    "#El primer elemento a utilizar para obtener una cadena de palabras clave, serán las stopwords (identificando las palabras adicionales).\n",
    "# Se definirán las stopwords para los idiomas de inglés y español, convirtiendolas en sets\n",
    "\n",
    "nlt.download('stopwords')\n",
    "\n",
    "en_stopwords = set(stopwords.words('english'))\n",
    "esp_stopwords = set(stopwords.words('spanish'))"
   ]
  },
  {
   "cell_type": "code",
   "execution_count": 14,
   "metadata": {},
   "outputs": [],
   "source": [
    "# Función para limpiar y tokenizar nuestras columnas\n",
    "def limpiarTexto(cadena):\n",
    "    '''\n",
    "    Esta función tokeniza el texto, elimina signos de puntuación y convierte los caracteres en minúsculas.\n",
    "    Luego, filtra las stopwords.\n",
    "    Espera como parámetro una cadena de texto.\n",
    "    '''\n",
    "    # Tokenización\n",
    "    etiquetas = word_tokenize(cadena) #se convierte la cadena en una lista de palabras\n",
    "    etiquetas = [word.lower() for word in etiquetas if word.isalpha()] # Se eliminan  signos de puntuación y convierte todo a minúsculas con lower()\n",
    "    etiquetas = [word for word in etiquetas if word not in en_stopwords and word not in esp_stopwords] # Se quitan stopwords en inglés y español descargadas en el paso anterior\n",
    "    return etiquetas"
   ]
  },
  {
   "cell_type": "code",
   "execution_count": 10,
   "metadata": {},
   "outputs": [],
   "source": [
    "#import nltk\n",
    "#nltk.data.path.append('C:/Users/GASTON/AppData/Roaming/nltk_data')"
   ]
  },
  {
   "cell_type": "code",
   "execution_count": 11,
   "metadata": {},
   "outputs": [
    {
     "name": "stderr",
     "output_type": "stream",
     "text": [
      "[nltk_data] Downloading package punkt to\n",
      "[nltk_data]     C:/Users/GASTON/AppData/Roaming/nltk_data...\n",
      "[nltk_data]   Package punkt is already up-to-date!\n"
     ]
    },
    {
     "data": {
      "text/plain": [
       "True"
      ]
     },
     "execution_count": 11,
     "metadata": {},
     "output_type": "execute_result"
    }
   ],
   "source": [
    "#import nltk\n",
    "#nltk.data.path = ['C:/Users/GASTON/AppData/Roaming/nltk_data']\n",
    "#nltk.download('punkt', download_dir='C:/Users/GASTON/AppData/Roaming/nltk_data')\n",
    "#Fue necesario hacer estas modificaciones para que funcione la galería nltk\n"
   ]
  },
  {
   "cell_type": "code",
   "execution_count": 15,
   "metadata": {},
   "outputs": [
    {
     "data": {
      "text/html": [
       "<div>\n",
       "<style scoped>\n",
       "    .dataframe tbody tr th:only-of-type {\n",
       "        vertical-align: middle;\n",
       "    }\n",
       "\n",
       "    .dataframe tbody tr th {\n",
       "        vertical-align: top;\n",
       "    }\n",
       "\n",
       "    .dataframe thead th {\n",
       "        text-align: right;\n",
       "    }\n",
       "</style>\n",
       "<table border=\"1\" class=\"dataframe\">\n",
       "  <thead>\n",
       "    <tr style=\"text-align: right;\">\n",
       "      <th></th>\n",
       "      <th>id</th>\n",
       "      <th>spoken_languagesname</th>\n",
       "      <th>genresname</th>\n",
       "      <th>title</th>\n",
       "      <th>overview</th>\n",
       "      <th>vote_average</th>\n",
       "      <th>status</th>\n",
       "      <th>production_countriesname</th>\n",
       "      <th>release_year</th>\n",
       "      <th>director</th>\n",
       "      <th>actor</th>\n",
       "      <th>title_depurado</th>\n",
       "      <th>overview_depurado</th>\n",
       "    </tr>\n",
       "  </thead>\n",
       "  <tbody>\n",
       "    <tr>\n",
       "      <th>2</th>\n",
       "      <td>10001</td>\n",
       "      <td>English</td>\n",
       "      <td>Science Fiction, Comedy</td>\n",
       "      <td>Young Einstein</td>\n",
       "      <td>Albert Einstein is the son of a Tasmanian appl...</td>\n",
       "      <td>4.5</td>\n",
       "      <td>Released</td>\n",
       "      <td>Australia</td>\n",
       "      <td>1988</td>\n",
       "      <td>Yahoo Serious</td>\n",
       "      <td>Yahoo Serious, Odile Le Clezio, Peewee Wilson,...</td>\n",
       "      <td>[young, einstein]</td>\n",
       "      <td>[albert, einstein, tasmanian, apple, farmer, d...</td>\n",
       "    </tr>\n",
       "    <tr>\n",
       "      <th>3</th>\n",
       "      <td>100010</td>\n",
       "      <td>English</td>\n",
       "      <td>Drama, War</td>\n",
       "      <td>Flight Command</td>\n",
       "      <td>A rookie flyer, Ens. Alan Drake, joins the fam...</td>\n",
       "      <td>6.0</td>\n",
       "      <td>Released</td>\n",
       "      <td>United States of America</td>\n",
       "      <td>1940</td>\n",
       "      <td>Frank Borzage</td>\n",
       "      <td>Robert Taylor, Ruth Hussey, Walter Pidgeon, Pa...</td>\n",
       "      <td>[flight, command]</td>\n",
       "      <td>[rookie, flyer, ens, alan, drake, joins, famou...</td>\n",
       "    </tr>\n",
       "    <tr>\n",
       "      <th>4</th>\n",
       "      <td>100017</td>\n",
       "      <td>Deutsch</td>\n",
       "      <td>Drama</td>\n",
       "      <td>Hounded</td>\n",
       "      <td>Deals with the obsessive relationship between ...</td>\n",
       "      <td>4.8</td>\n",
       "      <td>Released</td>\n",
       "      <td>Germany</td>\n",
       "      <td>2006</td>\n",
       "      <td>Angelina Maccarone</td>\n",
       "      <td>Kostja Ullmann, Maren Kroymann, Moritz Grove, ...</td>\n",
       "      <td>[hounded]</td>\n",
       "      <td>[deals, obsessive, relationship, confused, tee...</td>\n",
       "    </tr>\n",
       "  </tbody>\n",
       "</table>\n",
       "</div>"
      ],
      "text/plain": [
       "       id spoken_languagesname               genresname           title  \\\n",
       "2   10001              English  Science Fiction, Comedy  Young Einstein   \n",
       "3  100010              English               Drama, War  Flight Command   \n",
       "4  100017              Deutsch                    Drama         Hounded   \n",
       "\n",
       "                                            overview  vote_average    status  \\\n",
       "2  Albert Einstein is the son of a Tasmanian appl...           4.5  Released   \n",
       "3  A rookie flyer, Ens. Alan Drake, joins the fam...           6.0  Released   \n",
       "4  Deals with the obsessive relationship between ...           4.8  Released   \n",
       "\n",
       "   production_countriesname  release_year            director  \\\n",
       "2                 Australia          1988       Yahoo Serious   \n",
       "3  United States of America          1940       Frank Borzage   \n",
       "4                   Germany          2006  Angelina Maccarone   \n",
       "\n",
       "                                               actor     title_depurado  \\\n",
       "2  Yahoo Serious, Odile Le Clezio, Peewee Wilson,...  [young, einstein]   \n",
       "3  Robert Taylor, Ruth Hussey, Walter Pidgeon, Pa...  [flight, command]   \n",
       "4  Kostja Ullmann, Maren Kroymann, Moritz Grove, ...          [hounded]   \n",
       "\n",
       "                                   overview_depurado  \n",
       "2  [albert, einstein, tasmanian, apple, farmer, d...  \n",
       "3  [rookie, flyer, ens, alan, drake, joins, famou...  \n",
       "4  [deals, obsessive, relationship, confused, tee...  "
      ]
     },
     "execution_count": 15,
     "metadata": {},
     "output_type": "execute_result"
    }
   ],
   "source": [
    "df['title_depurado'] = df['title'].apply(lambda x: limpiarTexto(x))\n",
    "df['overview_depurado'] = df['overview'].dropna().apply(lambda x: limpiarTexto(x))\n",
    "df.head(3)"
   ]
  },
  {
   "cell_type": "code",
   "execution_count": 16,
   "metadata": {},
   "outputs": [],
   "source": [
    "df = df.drop(['overview'],axis=1) #La columna overview (Pequeño resumen de la película) ha sido depurada y agregadas\n",
    "#sus palabras clave a overview_depurado, por lo que se puede eliminar. No así el título, que será el retorno del \n",
    "#sistema de recomendación."
   ]
  },
  {
   "cell_type": "code",
   "execution_count": 19,
   "metadata": {},
   "outputs": [],
   "source": [
    "# La columna overview_depurado presenta algunos campos que no son strings. \n",
    "# Por eso, convertimos esa columna, la de título, título depurado y la de género en texto.\n",
    "df['overview_depurado'] = df['overview_depurado'].astype(str)\n",
    "df['title'] = df['title'].astype(str)\n",
    "df['title_depurado'] = df['title_depurado'].astype(str)\n",
    "df['genresname'] = df['genresname'].astype(str)"
   ]
  },
  {
   "cell_type": "markdown",
   "metadata": {},
   "source": [
    "Ahora que se cuenta con los campos específicos, es preciso generar una columna que contenga la información de todos ellos. Esto simplificará la vectorización y análisis (en comparación a trabajar con varias columnas).\n",
    "Se busca lograr una representación completa de la película, agregando las palabras clave del título, género y descripción. Además, se ponderará o dará mayor valor al título y al género, para que tengan más importancia, destacándose en la matriz TF-IDF para mejorar la precisión de las recomendaciones."
   ]
  },
  {
   "cell_type": "code",
   "execution_count": 20,
   "metadata": {},
   "outputs": [],
   "source": [
    "df['descripcion_combinada'] = df['title_depurado']+ ' '+ df['title_depurado'] + ' ' + df['overview_depurado'] + ' ' + df['genresname']+ ' ' + df['genresname']+ ' ' + df['genresname']\n",
    "#Se crea la columna \"descripción combinada\", que contiene los valores del título (depurado), el resumen (depurado) y el género.\n",
    "# Como se dijo, se repiten los valores del título y género para que tengan mayor fuerza."
   ]
  },
  {
   "cell_type": "code",
   "execution_count": 21,
   "metadata": {},
   "outputs": [],
   "source": [
    "# Para realizar la vectorización, creamos una lista de stopwords de los dos idiomas\n",
    "stopwords_todas = list(set(en_stopwords).union(set(esp_stopwords)))"
   ]
  },
  {
   "cell_type": "markdown",
   "metadata": {},
   "source": [
    "Ahora que tenemos todos los valores, debemos vectorizar y calcular la similitud del coseno para definir nuestra función de recomendación.\n",
    "La vectorización se realiza con TFIDFVectorizer, con todas las stopwords guardadas."
   ]
  },
  {
   "cell_type": "code",
   "execution_count": 25,
   "metadata": {},
   "outputs": [
    {
     "name": "stdout",
     "output_type": "stream",
     "text": [
      "(34318, 5000)\n"
     ]
    }
   ],
   "source": [
    "# Vectorización utilizando TF-IDF con stop words en inglés y español\n",
    "vectorizacion = TfidfVectorizer(stop_words=stopwords_todas, max_features=5000) #Se definen los paráemetros para convertir el texto en una matriz.\n",
    "matrizTFIDF = vectorizacion.fit_transform(df['descripcion_combinada']) #Se crea una matriz TF-IDF sobre la columna \"descripción combinada\"\n",
    "print(matrizTFIDF.shape) #dimensiones de la matriz"
   ]
  },
  {
   "cell_type": "code",
   "execution_count": 26,
   "metadata": {},
   "outputs": [
    {
     "name": "stdout",
     "output_type": "stream",
     "text": [
      "(34318, 100)\n"
     ]
    }
   ],
   "source": [
    "# Realizamos la reducción de dimensionalidad\n",
    "val_singulares = TruncatedSVD(n_components=100) #Se reduce la dimensionalidad de la matriz a 100 dimensiones, basándose en los valores singulares más altos.\n",
    "matriz_sing = val_singulares.fit_transform(matrizTFIDF)#Aplica el ajuste y la transformación a la matriz TF-IDF\n",
    "print(matriz_sing.shape) #Nuevas dimensiones sobre los valores singulares más importantes"
   ]
  },
  {
   "cell_type": "markdown",
   "metadata": {},
   "source": [
    "La reducción de la dimensionalidad genera una notable mejora de eficacia. Al eliminarse los componentes principales, se eliminan los menos significativos, que podrían introducir ruido al análisis.\n",
    "Además, la menor dimensionalidad contribuye con la mejora del rendimiento y la capacidad de generalización del modelo."
   ]
  },
  {
   "cell_type": "code",
   "execution_count": 27,
   "metadata": {},
   "outputs": [],
   "source": [
    "# Ahora debemos calcular la similitud del coseno entre las filas de la matriz reducida (esto permitirá encontrar\n",
    "#  películas similares en función de sus características combinadas: título, descripción y género). \n",
    "# Además, permite analizar relaciones entre películas, lo que ayuda a mejorar la precisión del sistema de recomendación.\n",
    "\n",
    "similitud_coseno = cosine_similarity(matriz_sing, matriz_sing) #Para buscar la similitud, cruzamos dos veces la matriz."
   ]
  },
  {
   "cell_type": "markdown",
   "metadata": {},
   "source": [
    "Ahora estamos en condiciones de crear la función de recomendación."
   ]
  },
  {
   "cell_type": "code",
   "execution_count": 48,
   "metadata": {},
   "outputs": [],
   "source": [
    "def recomendacion(title, df=df, similitud_coseno=similitud_coseno):\n",
    "    try:\n",
    "        indice = df[df['title'].str.lower() == title.lower()].index[0] # Se define el índice de película similar\n",
    "        similitud = list(enumerate(similitud_coseno[indice])) \n",
    "        similitud = sorted(similitud, key=lambda x: x[1], reverse=True) #Se obtiene el score de similitud y se ordenan.\n",
    "        # Se obtienen las películas similares, dejando afuera la primera(que es el mismo título):\n",
    "        similitud = similitud[1:6]\n",
    "        indices_similares = [i[0] for i in similitud]\n",
    "        peliculas_similares = df['title'].iloc[indices_similares].tolist() #Se crea una lista con las películas\n",
    "        mensaje = f\"Se encontraron los siguientes títulos similares a '{title}':\"\n",
    "        print(mensaje)\n",
    "        # Retornar la lista de títulos similares\n",
    "        return peliculas_similares\n",
    "    except IndexError:\n",
    "        print(f\"No se encontró la película '{title}'. Por favor, intente con otro título.\")"
   ]
  },
  {
   "cell_type": "code",
   "execution_count": 49,
   "metadata": {},
   "outputs": [
    {
     "name": "stdout",
     "output_type": "stream",
     "text": [
      "Se encontraron los siguientes títulos similares a 'toy story':\n"
     ]
    },
    {
     "data": {
      "text/plain": [
       "['Toy Story 2', 'Botsman i Popugay', 'Banana', 'Feed the Kitty', 'Hop']"
      ]
     },
     "execution_count": 49,
     "metadata": {},
     "output_type": "execute_result"
    }
   ],
   "source": [
    "test = recomendacion('toy story')\n",
    "test"
   ]
  },
  {
   "cell_type": "code",
   "execution_count": 50,
   "metadata": {},
   "outputs": [
    {
     "name": "stdout",
     "output_type": "stream",
     "text": [
      "Se encontraron los siguientes títulos similares a 'Young Einstein':\n"
     ]
    },
    {
     "data": {
      "text/plain": [
       "['Easy on the Eyes',\n",
       " 'Hibernatus',\n",
       " 'Young Frankenstein',\n",
       " 'Simon',\n",
       " 'Cabbage Soup']"
      ]
     },
     "execution_count": 50,
     "metadata": {},
     "output_type": "execute_result"
    }
   ],
   "source": [
    "test2 = recomendacion('Young Einstein')\n",
    "test2"
   ]
  },
  {
   "cell_type": "code",
   "execution_count": 51,
   "metadata": {},
   "outputs": [
    {
     "name": "stdout",
     "output_type": "stream",
     "text": [
      "Se encontraron los siguientes títulos similares a 'Star Wars':\n"
     ]
    },
    {
     "data": {
      "text/plain": [
       "['Star Trek Beyond',\n",
       " 'Battle of the Damned',\n",
       " 'Power Rangers',\n",
       " 'Wheels of Fire',\n",
       " 'Robot Overlords']"
      ]
     },
     "execution_count": 51,
     "metadata": {},
     "output_type": "execute_result"
    }
   ],
   "source": [
    "test3= recomendacion('Star Wars')\n",
    "test3"
   ]
  },
  {
   "cell_type": "code",
   "execution_count": 52,
   "metadata": {},
   "outputs": [
    {
     "name": "stdout",
     "output_type": "stream",
     "text": [
      "No se encontró la película 'askedddego'. Por favor, intente con otro título.\n"
     ]
    }
   ],
   "source": [
    "test_error = recomendacion('askedddego')\n",
    "test_error"
   ]
  },
  {
   "cell_type": "markdown",
   "metadata": {},
   "source": [
    "Vamos a reducir el dataset sólo a los elementos necesarios para el sistema de recomendación."
   ]
  },
  {
   "cell_type": "code",
   "execution_count": 53,
   "metadata": {},
   "outputs": [
    {
     "data": {
      "text/plain": [
       "Index(['id', 'spoken_languagesname', 'genresname', 'title', 'vote_average',\n",
       "       'status', 'production_countriesname', 'release_year', 'director',\n",
       "       'actor', 'title_depurado', 'overview_depurado',\n",
       "       'descripcion_combinada'],\n",
       "      dtype='object')"
      ]
     },
     "execution_count": 53,
     "metadata": {},
     "output_type": "execute_result"
    }
   ],
   "source": [
    "df.columns"
   ]
  },
  {
   "cell_type": "code",
   "execution_count": 54,
   "metadata": {},
   "outputs": [],
   "source": [
    "columnas_out = ['spoken_languagesname', 'vote_average', 'status', 'production_countriesname', 'release_year', 'director', 'actor']"
   ]
  },
  {
   "cell_type": "code",
   "execution_count": 58,
   "metadata": {},
   "outputs": [
    {
     "data": {
      "text/html": [
       "<div>\n",
       "<style scoped>\n",
       "    .dataframe tbody tr th:only-of-type {\n",
       "        vertical-align: middle;\n",
       "    }\n",
       "\n",
       "    .dataframe tbody tr th {\n",
       "        vertical-align: top;\n",
       "    }\n",
       "\n",
       "    .dataframe thead th {\n",
       "        text-align: right;\n",
       "    }\n",
       "</style>\n",
       "<table border=\"1\" class=\"dataframe\">\n",
       "  <thead>\n",
       "    <tr style=\"text-align: right;\">\n",
       "      <th></th>\n",
       "      <th>id</th>\n",
       "      <th>genresname</th>\n",
       "      <th>title</th>\n",
       "      <th>title_depurado</th>\n",
       "      <th>overview_depurado</th>\n",
       "      <th>descripcion_combinada</th>\n",
       "    </tr>\n",
       "  </thead>\n",
       "  <tbody>\n",
       "    <tr>\n",
       "      <th>0</th>\n",
       "      <td>10001</td>\n",
       "      <td>Science Fiction, Comedy</td>\n",
       "      <td>Young Einstein</td>\n",
       "      <td>['young', 'einstein']</td>\n",
       "      <td>['albert', 'einstein', 'tasmanian', 'apple', '...</td>\n",
       "      <td>['young', 'einstein'] ['young', 'einstein'] ['...</td>\n",
       "    </tr>\n",
       "    <tr>\n",
       "      <th>1</th>\n",
       "      <td>100010</td>\n",
       "      <td>Drama, War</td>\n",
       "      <td>Flight Command</td>\n",
       "      <td>['flight', 'command']</td>\n",
       "      <td>['rookie', 'flyer', 'ens', 'alan', 'drake', 'j...</td>\n",
       "      <td>['flight', 'command'] ['flight', 'command'] ['...</td>\n",
       "    </tr>\n",
       "    <tr>\n",
       "      <th>2</th>\n",
       "      <td>100017</td>\n",
       "      <td>Drama</td>\n",
       "      <td>Hounded</td>\n",
       "      <td>['hounded']</td>\n",
       "      <td>['deals', 'obsessive', 'relationship', 'confus...</td>\n",
       "      <td>['hounded'] ['hounded'] ['deals', 'obsessive',...</td>\n",
       "    </tr>\n",
       "    <tr>\n",
       "      <th>3</th>\n",
       "      <td>10002</td>\n",
       "      <td>Drama, Crime, Romance</td>\n",
       "      <td>Mona Lisa</td>\n",
       "      <td>['mona', 'lisa']</td>\n",
       "      <td>['george', 'released', 'prison', 'manages', 'g...</td>\n",
       "      <td>['mona', 'lisa'] ['mona', 'lisa'] ['george', '...</td>\n",
       "    </tr>\n",
       "    <tr>\n",
       "      <th>4</th>\n",
       "      <td>100024</td>\n",
       "      <td>Thriller, Horror</td>\n",
       "      <td>Bloodwork</td>\n",
       "      <td>['bloodwork']</td>\n",
       "      <td>['couple', 'college', 'students', 'decide', 's...</td>\n",
       "      <td>['bloodwork'] ['bloodwork'] ['couple', 'colleg...</td>\n",
       "    </tr>\n",
       "    <tr>\n",
       "      <th>...</th>\n",
       "      <td>...</td>\n",
       "      <td>...</td>\n",
       "      <td>...</td>\n",
       "      <td>...</td>\n",
       "      <td>...</td>\n",
       "      <td>...</td>\n",
       "    </tr>\n",
       "    <tr>\n",
       "      <th>34313</th>\n",
       "      <td>99946</td>\n",
       "      <td>Comedy</td>\n",
       "      <td>Exit Smiling</td>\n",
       "      <td>['exit', 'smiling']</td>\n",
       "      <td>['beatrice', 'lillie', 'jack', 'pickford', 'st...</td>\n",
       "      <td>['exit', 'smiling'] ['exit', 'smiling'] ['beat...</td>\n",
       "    </tr>\n",
       "    <tr>\n",
       "      <th>34314</th>\n",
       "      <td>9995</td>\n",
       "      <td>Drama, Action, Crime</td>\n",
       "      <td>Turn It Up</td>\n",
       "      <td>['turn']</td>\n",
       "      <td>['trying', 'bootstrap', 'way', 'brooklyn', 'me...</td>\n",
       "      <td>['turn'] ['turn'] ['trying', 'bootstrap', 'way...</td>\n",
       "    </tr>\n",
       "    <tr>\n",
       "      <th>34315</th>\n",
       "      <td>9997</td>\n",
       "      <td>Fantasy, Action, Science Fiction, Horror</td>\n",
       "      <td>Gabriel</td>\n",
       "      <td>['gabriel']</td>\n",
       "      <td>['gabriel', 'tells', 'story', 'archangel', 'fi...</td>\n",
       "      <td>['gabriel'] ['gabriel'] ['gabriel', 'tells', '...</td>\n",
       "    </tr>\n",
       "    <tr>\n",
       "      <th>34316</th>\n",
       "      <td>99977</td>\n",
       "      <td>Comedy</td>\n",
       "      <td>Hot Stuff</td>\n",
       "      <td>['hot', 'stuff']</td>\n",
       "      <td>['police', 'department', 'burglary', 'task', '...</td>\n",
       "      <td>['hot', 'stuff'] ['hot', 'stuff'] ['police', '...</td>\n",
       "    </tr>\n",
       "    <tr>\n",
       "      <th>34317</th>\n",
       "      <td>9999</td>\n",
       "      <td>Drama, Crime</td>\n",
       "      <td>The Free Will</td>\n",
       "      <td>['free']</td>\n",
       "      <td>['nine', 'years', 'psychiatric', 'detention', ...</td>\n",
       "      <td>['free'] ['free'] ['nine', 'years', 'psychiatr...</td>\n",
       "    </tr>\n",
       "  </tbody>\n",
       "</table>\n",
       "<p>34318 rows × 6 columns</p>\n",
       "</div>"
      ],
      "text/plain": [
       "           id                                genresname           title  \\\n",
       "0       10001                   Science Fiction, Comedy  Young Einstein   \n",
       "1      100010                                Drama, War  Flight Command   \n",
       "2      100017                                     Drama         Hounded   \n",
       "3       10002                     Drama, Crime, Romance       Mona Lisa   \n",
       "4      100024                          Thriller, Horror       Bloodwork   \n",
       "...       ...                                       ...             ...   \n",
       "34313   99946                                    Comedy    Exit Smiling   \n",
       "34314    9995                      Drama, Action, Crime      Turn It Up   \n",
       "34315    9997  Fantasy, Action, Science Fiction, Horror         Gabriel   \n",
       "34316   99977                                    Comedy       Hot Stuff   \n",
       "34317    9999                              Drama, Crime   The Free Will   \n",
       "\n",
       "              title_depurado  \\\n",
       "0      ['young', 'einstein']   \n",
       "1      ['flight', 'command']   \n",
       "2                ['hounded']   \n",
       "3           ['mona', 'lisa']   \n",
       "4              ['bloodwork']   \n",
       "...                      ...   \n",
       "34313    ['exit', 'smiling']   \n",
       "34314               ['turn']   \n",
       "34315            ['gabriel']   \n",
       "34316       ['hot', 'stuff']   \n",
       "34317               ['free']   \n",
       "\n",
       "                                       overview_depurado  \\\n",
       "0      ['albert', 'einstein', 'tasmanian', 'apple', '...   \n",
       "1      ['rookie', 'flyer', 'ens', 'alan', 'drake', 'j...   \n",
       "2      ['deals', 'obsessive', 'relationship', 'confus...   \n",
       "3      ['george', 'released', 'prison', 'manages', 'g...   \n",
       "4      ['couple', 'college', 'students', 'decide', 's...   \n",
       "...                                                  ...   \n",
       "34313  ['beatrice', 'lillie', 'jack', 'pickford', 'st...   \n",
       "34314  ['trying', 'bootstrap', 'way', 'brooklyn', 'me...   \n",
       "34315  ['gabriel', 'tells', 'story', 'archangel', 'fi...   \n",
       "34316  ['police', 'department', 'burglary', 'task', '...   \n",
       "34317  ['nine', 'years', 'psychiatric', 'detention', ...   \n",
       "\n",
       "                                   descripcion_combinada  \n",
       "0      ['young', 'einstein'] ['young', 'einstein'] ['...  \n",
       "1      ['flight', 'command'] ['flight', 'command'] ['...  \n",
       "2      ['hounded'] ['hounded'] ['deals', 'obsessive',...  \n",
       "3      ['mona', 'lisa'] ['mona', 'lisa'] ['george', '...  \n",
       "4      ['bloodwork'] ['bloodwork'] ['couple', 'colleg...  \n",
       "...                                                  ...  \n",
       "34313  ['exit', 'smiling'] ['exit', 'smiling'] ['beat...  \n",
       "34314  ['turn'] ['turn'] ['trying', 'bootstrap', 'way...  \n",
       "34315  ['gabriel'] ['gabriel'] ['gabriel', 'tells', '...  \n",
       "34316  ['hot', 'stuff'] ['hot', 'stuff'] ['police', '...  \n",
       "34317  ['free'] ['free'] ['nine', 'years', 'psychiatr...  \n",
       "\n",
       "[34318 rows x 6 columns]"
      ]
     },
     "execution_count": 58,
     "metadata": {},
     "output_type": "execute_result"
    }
   ],
   "source": [
    "df"
   ]
  },
  {
   "cell_type": "code",
   "execution_count": 59,
   "metadata": {},
   "outputs": [],
   "source": [
    "def recomendacion(title, df=df, similitud_coseno=similitud_coseno):\n",
    "    try:\n",
    "        indice = df[df['title'].str.lower() == title.lower()].index[0] # Se define el índice de película similar\n",
    "        similitud = list(enumerate(similitud_coseno[indice])) \n",
    "        similitud = sorted(similitud, key=lambda x: x[1], reverse=True) #Se obtiene el score de similitud y se ordenan.\n",
    "        # Se obtienen las películas similares, dejando afuera la primera(que es el mismo título):\n",
    "        similitud = similitud[1:6]\n",
    "        indices_similares = [i[0] for i in similitud]\n",
    "        peliculas_similares = df['title'].iloc[indices_similares].tolist() #Se crea una lista con las películas\n",
    "        mensaje = f\"Se encontraron los siguientes títulos similares a '{title}':\"\n",
    "        print(mensaje)\n",
    "        # Retornar la lista de títulos similares\n",
    "        return peliculas_similares\n",
    "    except IndexError:\n",
    "        print(f\"No se encontró la película '{title}'. Por favor, intente con otro título.\")"
   ]
  },
  {
   "cell_type": "code",
   "execution_count": 60,
   "metadata": {},
   "outputs": [
    {
     "name": "stdout",
     "output_type": "stream",
     "text": [
      "Se encontraron los siguientes títulos similares a 'Star Wars':\n"
     ]
    },
    {
     "data": {
      "text/plain": [
       "['Star Trek Beyond',\n",
       " 'Battle of the Damned',\n",
       " 'Power Rangers',\n",
       " 'Wheels of Fire',\n",
       " 'Robot Overlords']"
      ]
     },
     "execution_count": 60,
     "metadata": {},
     "output_type": "execute_result"
    }
   ],
   "source": [
    "test4= recomendacion('Star Wars')\n",
    "test4"
   ]
  },
  {
   "cell_type": "code",
   "execution_count": 61,
   "metadata": {},
   "outputs": [
    {
     "name": "stdout",
     "output_type": "stream",
     "text": [
      "No se encontró la película 'asdasd'. Por favor, intente con otro título.\n"
     ]
    }
   ],
   "source": [
    "test_error2=recomendacion('asdasd')\n",
    "test_error2"
   ]
  },
  {
   "cell_type": "code",
   "execution_count": 63,
   "metadata": {},
   "outputs": [],
   "source": [
    "df.to_parquet(r'C:\\Users\\GASTON\\Desktop\\PI1\\DATArecomendacion.parquet',index=True)"
   ]
  },
  {
   "cell_type": "code",
   "execution_count": 64,
   "metadata": {},
   "outputs": [
    {
     "data": {
      "text/html": [
       "<div>\n",
       "<style scoped>\n",
       "    .dataframe tbody tr th:only-of-type {\n",
       "        vertical-align: middle;\n",
       "    }\n",
       "\n",
       "    .dataframe tbody tr th {\n",
       "        vertical-align: top;\n",
       "    }\n",
       "\n",
       "    .dataframe thead th {\n",
       "        text-align: right;\n",
       "    }\n",
       "</style>\n",
       "<table border=\"1\" class=\"dataframe\">\n",
       "  <thead>\n",
       "    <tr style=\"text-align: right;\">\n",
       "      <th></th>\n",
       "      <th>id</th>\n",
       "      <th>genresname</th>\n",
       "      <th>title</th>\n",
       "      <th>title_depurado</th>\n",
       "      <th>overview_depurado</th>\n",
       "      <th>descripcion_combinada</th>\n",
       "    </tr>\n",
       "  </thead>\n",
       "  <tbody>\n",
       "    <tr>\n",
       "      <th>0</th>\n",
       "      <td>10001</td>\n",
       "      <td>Science Fiction, Comedy</td>\n",
       "      <td>Young Einstein</td>\n",
       "      <td>['young', 'einstein']</td>\n",
       "      <td>['albert', 'einstein', 'tasmanian', 'apple', '...</td>\n",
       "      <td>['young', 'einstein'] ['young', 'einstein'] ['...</td>\n",
       "    </tr>\n",
       "    <tr>\n",
       "      <th>1</th>\n",
       "      <td>100010</td>\n",
       "      <td>Drama, War</td>\n",
       "      <td>Flight Command</td>\n",
       "      <td>['flight', 'command']</td>\n",
       "      <td>['rookie', 'flyer', 'ens', 'alan', 'drake', 'j...</td>\n",
       "      <td>['flight', 'command'] ['flight', 'command'] ['...</td>\n",
       "    </tr>\n",
       "    <tr>\n",
       "      <th>2</th>\n",
       "      <td>100017</td>\n",
       "      <td>Drama</td>\n",
       "      <td>Hounded</td>\n",
       "      <td>['hounded']</td>\n",
       "      <td>['deals', 'obsessive', 'relationship', 'confus...</td>\n",
       "      <td>['hounded'] ['hounded'] ['deals', 'obsessive',...</td>\n",
       "    </tr>\n",
       "    <tr>\n",
       "      <th>3</th>\n",
       "      <td>10002</td>\n",
       "      <td>Drama, Crime, Romance</td>\n",
       "      <td>Mona Lisa</td>\n",
       "      <td>['mona', 'lisa']</td>\n",
       "      <td>['george', 'released', 'prison', 'manages', 'g...</td>\n",
       "      <td>['mona', 'lisa'] ['mona', 'lisa'] ['george', '...</td>\n",
       "    </tr>\n",
       "    <tr>\n",
       "      <th>4</th>\n",
       "      <td>100024</td>\n",
       "      <td>Thriller, Horror</td>\n",
       "      <td>Bloodwork</td>\n",
       "      <td>['bloodwork']</td>\n",
       "      <td>['couple', 'college', 'students', 'decide', 's...</td>\n",
       "      <td>['bloodwork'] ['bloodwork'] ['couple', 'colleg...</td>\n",
       "    </tr>\n",
       "  </tbody>\n",
       "</table>\n",
       "</div>"
      ],
      "text/plain": [
       "       id               genresname           title         title_depurado  \\\n",
       "0   10001  Science Fiction, Comedy  Young Einstein  ['young', 'einstein']   \n",
       "1  100010               Drama, War  Flight Command  ['flight', 'command']   \n",
       "2  100017                    Drama         Hounded            ['hounded']   \n",
       "3   10002    Drama, Crime, Romance       Mona Lisa       ['mona', 'lisa']   \n",
       "4  100024         Thriller, Horror       Bloodwork          ['bloodwork']   \n",
       "\n",
       "                                   overview_depurado  \\\n",
       "0  ['albert', 'einstein', 'tasmanian', 'apple', '...   \n",
       "1  ['rookie', 'flyer', 'ens', 'alan', 'drake', 'j...   \n",
       "2  ['deals', 'obsessive', 'relationship', 'confus...   \n",
       "3  ['george', 'released', 'prison', 'manages', 'g...   \n",
       "4  ['couple', 'college', 'students', 'decide', 's...   \n",
       "\n",
       "                               descripcion_combinada  \n",
       "0  ['young', 'einstein'] ['young', 'einstein'] ['...  \n",
       "1  ['flight', 'command'] ['flight', 'command'] ['...  \n",
       "2  ['hounded'] ['hounded'] ['deals', 'obsessive',...  \n",
       "3  ['mona', 'lisa'] ['mona', 'lisa'] ['george', '...  \n",
       "4  ['bloodwork'] ['bloodwork'] ['couple', 'colleg...  "
      ]
     },
     "execution_count": 64,
     "metadata": {},
     "output_type": "execute_result"
    }
   ],
   "source": [
    "prueba = pd.read_parquet(r'C:\\Users\\GASTON\\Desktop\\PI1\\DATArecomendacion.parquet')\n",
    "prueba.head()"
   ]
  }
 ],
 "metadata": {
  "kernelspec": {
   "display_name": "Python 3",
   "language": "python",
   "name": "python3"
  },
  "language_info": {
   "codemirror_mode": {
    "name": "ipython",
    "version": 3
   },
   "file_extension": ".py",
   "mimetype": "text/x-python",
   "name": "python",
   "nbconvert_exporter": "python",
   "pygments_lexer": "ipython3",
   "version": "3.11.9"
  }
 },
 "nbformat": 4,
 "nbformat_minor": 2
}
