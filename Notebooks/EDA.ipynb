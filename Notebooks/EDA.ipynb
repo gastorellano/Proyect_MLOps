{
 "cells": [
  {
   "cell_type": "markdown",
   "metadata": {},
   "source": [
    "##  **Exploratory Data Analysis** (EDA)"
   ]
  },
  {
   "cell_type": "markdown",
   "metadata": {},
   "source": [
    "En el documento 'etl.ipynb' se realizó un primer análisis y limpieza de datos. Corresponde ahora investigar relaciones\n",
    "entre las variables, outliers, patrones o cualquier otra consideración de relevancia para el sistema de recomendación."
   ]
  },
  {
   "cell_type": "code",
   "execution_count": 26,
   "metadata": {},
   "outputs": [],
   "source": [
    "import pandas as pd\n",
    "import seaborn as sns\n",
    "import matplotlib.pyplot as plt"
   ]
  },
  {
   "cell_type": "code",
   "execution_count": 5,
   "metadata": {},
   "outputs": [
    {
     "data": {
      "text/html": [
       "<div>\n",
       "<style scoped>\n",
       "    .dataframe tbody tr th:only-of-type {\n",
       "        vertical-align: middle;\n",
       "    }\n",
       "\n",
       "    .dataframe tbody tr th {\n",
       "        vertical-align: top;\n",
       "    }\n",
       "\n",
       "    .dataframe thead th {\n",
       "        text-align: right;\n",
       "    }\n",
       "</style>\n",
       "<table border=\"1\" class=\"dataframe\">\n",
       "  <thead>\n",
       "    <tr style=\"text-align: right;\">\n",
       "      <th></th>\n",
       "      <th>id</th>\n",
       "      <th>spoken_languagesname</th>\n",
       "      <th>genresname</th>\n",
       "      <th>title</th>\n",
       "      <th>budget</th>\n",
       "      <th>revenue</th>\n",
       "      <th>overview</th>\n",
       "      <th>release_date</th>\n",
       "      <th>vote_average</th>\n",
       "      <th>vote_count</th>\n",
       "      <th>popularity</th>\n",
       "      <th>runtime</th>\n",
       "      <th>status</th>\n",
       "      <th>tagline</th>\n",
       "      <th>production_companiesname</th>\n",
       "      <th>production_countriesname</th>\n",
       "      <th>release_year</th>\n",
       "      <th>return</th>\n",
       "      <th>director</th>\n",
       "      <th>actor</th>\n",
       "    </tr>\n",
       "  </thead>\n",
       "  <tbody>\n",
       "    <tr>\n",
       "      <th>0</th>\n",
       "      <td>100</td>\n",
       "      <td>English</td>\n",
       "      <td>Crime, Comedy</td>\n",
       "      <td>Lock, Stock and Two Smoking Barrels</td>\n",
       "      <td>1350000.0</td>\n",
       "      <td>3897569.0</td>\n",
       "      <td>A card sharp and his unwillingly-enlisted frie...</td>\n",
       "      <td>1998-03-05</td>\n",
       "      <td>7.5</td>\n",
       "      <td>1671.0</td>\n",
       "      <td>4.607860</td>\n",
       "      <td>105.0</td>\n",
       "      <td>Released</td>\n",
       "      <td>A Disgrace to Criminals Everywhere.</td>\n",
       "      <td>Handmade Films Ltd.</td>\n",
       "      <td>United Kingdom</td>\n",
       "      <td>1998</td>\n",
       "      <td>2.887088</td>\n",
       "      <td>Guy Ritchie</td>\n",
       "      <td>Jason Flemyng, Dexter Fletcher, Nick Moran, Ja...</td>\n",
       "    </tr>\n",
       "    <tr>\n",
       "      <th>1</th>\n",
       "      <td>10000</td>\n",
       "      <td>Español</td>\n",
       "      <td>Drama, Comedy</td>\n",
       "      <td>La estrategia del caracol</td>\n",
       "      <td>0.0</td>\n",
       "      <td>0.0</td>\n",
       "      <td>A group of tenants living in an old house are ...</td>\n",
       "      <td>1993-12-25</td>\n",
       "      <td>7.2</td>\n",
       "      <td>9.0</td>\n",
       "      <td>0.281609</td>\n",
       "      <td>116.0</td>\n",
       "      <td>Released</td>\n",
       "      <td>Sin Datos</td>\n",
       "      <td>Ministère de la Culture et de la Francophonie</td>\n",
       "      <td>Colombia</td>\n",
       "      <td>1993</td>\n",
       "      <td>0.000000</td>\n",
       "      <td>Sergio Cabrera</td>\n",
       "      <td>NaN</td>\n",
       "    </tr>\n",
       "    <tr>\n",
       "      <th>2</th>\n",
       "      <td>10001</td>\n",
       "      <td>English</td>\n",
       "      <td>Science Fiction, Comedy</td>\n",
       "      <td>Young Einstein</td>\n",
       "      <td>0.0</td>\n",
       "      <td>0.0</td>\n",
       "      <td>Albert Einstein is the son of a Tasmanian appl...</td>\n",
       "      <td>1988-12-15</td>\n",
       "      <td>4.5</td>\n",
       "      <td>46.0</td>\n",
       "      <td>2.562888</td>\n",
       "      <td>91.0</td>\n",
       "      <td>Released</td>\n",
       "      <td>E=mc²</td>\n",
       "      <td>Warner Bros.</td>\n",
       "      <td>Australia</td>\n",
       "      <td>1988</td>\n",
       "      <td>0.000000</td>\n",
       "      <td>Yahoo Serious</td>\n",
       "      <td>Yahoo Serious, Odile Le Clezio, Peewee Wilson,...</td>\n",
       "    </tr>\n",
       "  </tbody>\n",
       "</table>\n",
       "</div>"
      ],
      "text/plain": [
       "      id spoken_languagesname               genresname  \\\n",
       "0    100              English            Crime, Comedy   \n",
       "1  10000              Español            Drama, Comedy   \n",
       "2  10001              English  Science Fiction, Comedy   \n",
       "\n",
       "                                 title     budget    revenue  \\\n",
       "0  Lock, Stock and Two Smoking Barrels  1350000.0  3897569.0   \n",
       "1            La estrategia del caracol        0.0        0.0   \n",
       "2                       Young Einstein        0.0        0.0   \n",
       "\n",
       "                                            overview release_date  \\\n",
       "0  A card sharp and his unwillingly-enlisted frie...   1998-03-05   \n",
       "1  A group of tenants living in an old house are ...   1993-12-25   \n",
       "2  Albert Einstein is the son of a Tasmanian appl...   1988-12-15   \n",
       "\n",
       "   vote_average  vote_count  popularity runtime    status  \\\n",
       "0           7.5      1671.0    4.607860   105.0  Released   \n",
       "1           7.2         9.0    0.281609   116.0  Released   \n",
       "2           4.5        46.0    2.562888    91.0  Released   \n",
       "\n",
       "                               tagline  \\\n",
       "0  A Disgrace to Criminals Everywhere.   \n",
       "1                            Sin Datos   \n",
       "2                                E=mc²   \n",
       "\n",
       "                        production_companiesname production_countriesname  \\\n",
       "0                            Handmade Films Ltd.           United Kingdom   \n",
       "1  Ministère de la Culture et de la Francophonie                 Colombia   \n",
       "2                                   Warner Bros.                Australia   \n",
       "\n",
       "   release_year    return        director  \\\n",
       "0          1998  2.887088     Guy Ritchie   \n",
       "1          1993  0.000000  Sergio Cabrera   \n",
       "2          1988  0.000000   Yahoo Serious   \n",
       "\n",
       "                                               actor  \n",
       "0  Jason Flemyng, Dexter Fletcher, Nick Moran, Ja...  \n",
       "1                                                NaN  \n",
       "2  Yahoo Serious, Odile Le Clezio, Peewee Wilson,...  "
      ]
     },
     "execution_count": 5,
     "metadata": {},
     "output_type": "execute_result"
    }
   ],
   "source": [
    "df = pd.read_csv(r'C:\\Users\\GASTON\\Desktop\\PI1\\DATA\\movies_credits.csv', encoding= 'utf8', low_memory=False)\n",
    "df.head(3)"
   ]
  },
  {
   "cell_type": "code",
   "execution_count": 6,
   "metadata": {},
   "outputs": [
    {
     "data": {
      "text/plain": [
       "id                            int64\n",
       "spoken_languagesname         object\n",
       "genresname                   object\n",
       "title                        object\n",
       "budget                      float64\n",
       "revenue                     float64\n",
       "overview                     object\n",
       "release_date                 object\n",
       "vote_average                float64\n",
       "vote_count                  float64\n",
       "popularity                  float64\n",
       "runtime                      object\n",
       "status                       object\n",
       "tagline                      object\n",
       "production_companiesname     object\n",
       "production_countriesname     object\n",
       "release_year                  int64\n",
       "return                      float64\n",
       "director                     object\n",
       "actor                        object\n",
       "dtype: object"
      ]
     },
     "execution_count": 6,
     "metadata": {},
     "output_type": "execute_result"
    }
   ],
   "source": [
    "df.dtypes #Ante todo, corresponde ver si el DataFrame tiene las columnas con el tipo de datos correcto."
   ]
  },
  {
   "cell_type": "code",
   "execution_count": 12,
   "metadata": {},
   "outputs": [],
   "source": [
    "#Corregimos los tipos de datos de las columnas.\n",
    "df['id'] = df['id'].astype('int64')\n",
    "df['release_date']= (pd.to_datetime(df['release_date'],errors='coerce'))\n",
    "df['runtime'] =(pd.to_numeric(df['runtime'],errors= 'coerce'))"
   ]
  },
  {
   "cell_type": "markdown",
   "metadata": {},
   "source": [
    "## Tratamiento de Nulos"
   ]
  },
  {
   "cell_type": "markdown",
   "metadata": {},
   "source": [
    "Corresponde chequear la existencia de valores nulos en el Dataset"
   ]
  },
  {
   "cell_type": "code",
   "execution_count": 22,
   "metadata": {},
   "outputs": [
    {
     "data": {
      "text/plain": [
       "id                             0\n",
       "spoken_languagesname        3891\n",
       "genresname                  2384\n",
       "title                          0\n",
       "budget                         0\n",
       "revenue                        0\n",
       "overview                       5\n",
       "release_date                   0\n",
       "vote_average                   0\n",
       "vote_count                     0\n",
       "popularity                     0\n",
       "runtime                      246\n",
       "status                         0\n",
       "tagline                        1\n",
       "production_companiesname       0\n",
       "production_countriesname       0\n",
       "release_year                   0\n",
       "return                         0\n",
       "director                     836\n",
       "actor                       2474\n",
       "dtype: int64"
      ]
     },
     "execution_count": 22,
     "metadata": {},
     "output_type": "execute_result"
    }
   ],
   "source": [
    "df.isnull().sum() #No tengo valores nulos"
   ]
  },
  {
   "cell_type": "markdown",
   "metadata": {},
   "source": [
    "En primer lugar, se observa la existencia de valores nulos en las columnas de 'Director' y 'Actor'. "
   ]
  },
  {
   "cell_type": "code",
   "execution_count": 23,
   "metadata": {},
   "outputs": [
    {
     "data": {
      "text/html": [
       "<div>\n",
       "<style scoped>\n",
       "    .dataframe tbody tr th:only-of-type {\n",
       "        vertical-align: middle;\n",
       "    }\n",
       "\n",
       "    .dataframe tbody tr th {\n",
       "        vertical-align: top;\n",
       "    }\n",
       "\n",
       "    .dataframe thead th {\n",
       "        text-align: right;\n",
       "    }\n",
       "</style>\n",
       "<table border=\"1\" class=\"dataframe\">\n",
       "  <thead>\n",
       "    <tr style=\"text-align: right;\">\n",
       "      <th></th>\n",
       "      <th>id</th>\n",
       "      <th>spoken_languagesname</th>\n",
       "      <th>genresname</th>\n",
       "      <th>title</th>\n",
       "      <th>budget</th>\n",
       "      <th>revenue</th>\n",
       "      <th>overview</th>\n",
       "      <th>release_date</th>\n",
       "      <th>vote_average</th>\n",
       "      <th>vote_count</th>\n",
       "      <th>popularity</th>\n",
       "      <th>runtime</th>\n",
       "      <th>status</th>\n",
       "      <th>tagline</th>\n",
       "      <th>production_companiesname</th>\n",
       "      <th>production_countriesname</th>\n",
       "      <th>release_year</th>\n",
       "      <th>return</th>\n",
       "      <th>director</th>\n",
       "      <th>actor</th>\n",
       "    </tr>\n",
       "  </thead>\n",
       "  <tbody>\n",
       "    <tr>\n",
       "      <th>0</th>\n",
       "      <td>100</td>\n",
       "      <td>English</td>\n",
       "      <td>Crime, Comedy</td>\n",
       "      <td>Lock, Stock and Two Smoking Barrels</td>\n",
       "      <td>1350000.0</td>\n",
       "      <td>3897569.0</td>\n",
       "      <td>A card sharp and his unwillingly-enlisted frie...</td>\n",
       "      <td>1998-03-05</td>\n",
       "      <td>7.5</td>\n",
       "      <td>1671.0</td>\n",
       "      <td>4.60786</td>\n",
       "      <td>105.0</td>\n",
       "      <td>Released</td>\n",
       "      <td>A Disgrace to Criminals Everywhere.</td>\n",
       "      <td>Handmade Films Ltd.</td>\n",
       "      <td>United Kingdom</td>\n",
       "      <td>1998</td>\n",
       "      <td>2.887088</td>\n",
       "      <td>Guy Ritchie</td>\n",
       "      <td>Jason Flemyng, Dexter Fletcher, Nick Moran, Ja...</td>\n",
       "    </tr>\n",
       "  </tbody>\n",
       "</table>\n",
       "</div>"
      ],
      "text/plain": [
       "    id spoken_languagesname     genresname  \\\n",
       "0  100              English  Crime, Comedy   \n",
       "\n",
       "                                 title     budget    revenue  \\\n",
       "0  Lock, Stock and Two Smoking Barrels  1350000.0  3897569.0   \n",
       "\n",
       "                                            overview release_date  \\\n",
       "0  A card sharp and his unwillingly-enlisted frie...   1998-03-05   \n",
       "\n",
       "   vote_average  vote_count  popularity  runtime    status  \\\n",
       "0           7.5      1671.0     4.60786    105.0  Released   \n",
       "\n",
       "                               tagline production_companiesname  \\\n",
       "0  A Disgrace to Criminals Everywhere.      Handmade Films Ltd.   \n",
       "\n",
       "  production_countriesname  release_year    return     director  \\\n",
       "0           United Kingdom          1998  2.887088  Guy Ritchie   \n",
       "\n",
       "                                               actor  \n",
       "0  Jason Flemyng, Dexter Fletcher, Nick Moran, Ja...  "
      ]
     },
     "execution_count": 23,
     "metadata": {},
     "output_type": "execute_result"
    }
   ],
   "source": [
    "df_nulos = df.copy()\n",
    "df_nulos.head(1)"
   ]
  },
  {
   "cell_type": "code",
   "execution_count": 25,
   "metadata": {},
   "outputs": [
    {
     "data": {
      "text/plain": [
       "Index(['id', 'spoken_languagesname', 'genresname', 'title', 'budget',\n",
       "       'revenue', 'overview', 'release_date', 'vote_average', 'vote_count',\n",
       "       'popularity', 'runtime', 'status', 'tagline',\n",
       "       'production_companiesname', 'production_countriesname', 'release_year',\n",
       "       'return', 'director', 'actor', 'is_director_null', 'is_actor_null'],\n",
       "      dtype='object')"
      ]
     },
     "execution_count": 25,
     "metadata": {},
     "output_type": "execute_result"
    }
   ],
   "source": [
    "#Se crean nuevas columnas para que interactúen con otras, y así poder comparar con presupuesto y popularidad.\n",
    "df_nulos['is_director_null'] = df['director'].isnull()\n",
    "df_nulos['is_actor_null'] = df['actor'].isnull()\n",
    "df_nulos.columns"
   ]
  },
  {
   "cell_type": "code",
   "execution_count": 31,
   "metadata": {},
   "outputs": [
    {
     "data": {
      "image/png": "[encoded data removed]",
      "text/plain": [
       "<Figure size 1400x600 with 2 Axes>"
      ]
     },
     "metadata": {},
     "output_type": "display_data"
    }
   ],
   "source": [
    "# Creamos una figura con dos subplots\n",
    "# En una se comparará el director con 'Revenue' (Ganancia) y en la otra con 'popularity' (Popularidad)\n",
    "fig, axes = plt.subplots(nrows=1, ncols=2, figsize=(14, 6)) \n",
    "\n",
    "sns.boxplot(x='is_director_null', y='revenue', data=df_nulos, ax=axes[0])\n",
    "axes[0].set_title('Impacto de valores nulos en Director sobre Revenue')\n",
    "axes[0].set_xlabel('Director es Nulo')\n",
    "axes[0].set_ylabel('Revenue')\n",
    "\n",
    "# A la derecha mostraremos el impacto de los valores nulos sobre 'Popularity'\n",
    "sns.boxplot(x='is_director_null', y='popularity', data=df_nulos, ax=axes[1])\n",
    "axes[1].set_title('Impacto de valores nulos en Director sobre Popularity')\n",
    "axes[1].set_xlabel('Director es Nulo')\n",
    "axes[1].set_ylabel('Popularity')\n",
    "\n",
    "plt.tight_layout()\n",
    "plt.show()"
   ]
  },
  {
   "cell_type": "code",
   "execution_count": 32,
   "metadata": {},
   "outputs": [
    {
     "data": {
      "image/png": "[encoded data removed]",
      "text/plain": [
       "<Figure size 640x480 with 1 Axes>"
      ]
     },
     "metadata": {},
     "output_type": "display_data"
    }
   ],
   "source": [
    "df_nulos.groupby('is_director_null')[['revenue', 'popularity']].mean().plot(kind='bar')\n",
    "plt.title('Impacto de valores nulos en Director sobre Revenue y Popularity')\n",
    "plt.xlabel('Director es Nulo')\n",
    "plt.ylabel('Valores Promedio')\n",
    "plt.show()"
   ]
  },
  {
   "cell_type": "markdown",
   "metadata": {},
   "source": [
    "Podemos observar que los valores nulos o faltantes para 'Director' no suponen implicancias significantes en ganancia ni en la popularidad de la filmación."
   ]
  },
  {
   "cell_type": "code",
   "execution_count": 34,
   "metadata": {},
   "outputs": [
    {
     "data": {
      "image/png": "[encoded data removed]",
      "text/plain": [
       "<Figure size 1400x600 with 2 Axes>"
      ]
     },
     "metadata": {},
     "output_type": "display_data"
    }
   ],
   "source": [
    "#Repetimos el proceso, para comparar las mismas métricas, pero esta vez con 'Actor'.\n",
    "fig, axes = plt.subplots(nrows=1, ncols=2, figsize=(14, 6)) \n",
    "\n",
    "sns.boxplot(x='is_actor_null', y='revenue', data=df_nulos, ax=axes[0])\n",
    "axes[0].set_title('Impacto de valores nulos en Actor sobre Revenue')\n",
    "axes[0].set_xlabel('Actor es Nulo')\n",
    "axes[0].set_ylabel('Revenue')\n",
    "\n",
    "# A la derecha mostraremos el impacto de los valores nulos sobre 'Popularity'\n",
    "sns.boxplot(x='is_actor_null', y='popularity', data=df_nulos, ax=axes[1])\n",
    "axes[1].set_title('Impacto de valores nulos en Actor sobre Popularity')\n",
    "axes[1].set_xlabel('Actor es Nulo')\n",
    "axes[1].set_ylabel('Popularity')\n",
    "\n",
    "plt.tight_layout()\n",
    "plt.show()"
   ]
  },
  {
   "cell_type": "markdown",
   "metadata": {},
   "source": [
    "Al igual que para el caso de 'Director', los campos faltantes o nulos en la columna 'actor' carecen de relevancia en el dataset (tomándose como parámetro su incidencia en popularidad de la película y ganancia).<br>\n",
    "De esta forma, **se pueden eliminar las filas con datos nulos o valores faltantes para estas columnas**."
   ]
  },
  {
   "cell_type": "code",
   "execution_count": 35,
   "metadata": {},
   "outputs": [
    {
     "name": "stdout",
     "output_type": "stream",
     "text": [
      "id                             0\n",
      "spoken_languagesname        2790\n",
      "genresname                  1658\n",
      "title                          0\n",
      "budget                         0\n",
      "revenue                        0\n",
      "overview                       4\n",
      "release_date                   0\n",
      "vote_average                   0\n",
      "vote_count                     0\n",
      "popularity                     0\n",
      "runtime                      198\n",
      "status                         0\n",
      "tagline                        1\n",
      "production_companiesname       0\n",
      "production_countriesname       0\n",
      "release_year                   0\n",
      "return                         0\n",
      "director                       0\n",
      "actor                          0\n",
      "dtype: int64\n"
     ]
    }
   ],
   "source": [
    "df = df.dropna(subset=['actor', 'director'])\n",
    "\n",
    "print(df.isnull().sum())# Verificamos que no existan nulos en esas columnas"
   ]
  },
  {
   "cell_type": "markdown",
   "metadata": {},
   "source": [
    "En el proceso de ETL se identificaron los primeros valores nulos, y aplicó una función para reemplazar según el tipo de dato."
   ]
  },
  {
   "cell_type": "code",
   "execution_count": 44,
   "metadata": {},
   "outputs": [],
   "source": [
    "#Función utilizada\n",
    "def reemplazarNulos(df, columna, valor):\n",
    "    \"\"\"\n",
    "    Esta función rellena los valores NaN en una columna específica de un DataFrame.\n",
    "    Se esperan tres (3) parámentros:\n",
    "    df (DataFrame): Sobre este DataFrame se realizará la operación.\n",
    "    columna (str): Es el nombre de la columna del DataFrame en la que se reemplazarán los valores.\n",
    "    valor: El valor con el que sr reemplazan los NaN en la columna.\n",
    "\n",
    "    Se retorna un DataFrame con los nulos rellenados en las columnas indicadas.\n",
    "\n",
    "    Si debo rellenar múltiples columnas con diferentes valores, se puede mapear un diccionario de claves-valor y aplicar la función de manera iterativa.\n",
    "    \"\"\"\n",
    "    df.loc[:, columna] = df[columna].fillna(valor)\n",
    "    return df"
   ]
  },
  {
   "cell_type": "code",
   "execution_count": 51,
   "metadata": {},
   "outputs": [],
   "source": [
    "#La volvemos a aplicar sobre los nuevos valores\n",
    "\n",
    "mapeo_nulos = {\n",
    "    'spoken_languagesname': 'Sin Datos',\n",
    "    'genresname': 'Sin Datos',\n",
    "    'runtime': 'Sin Datos',\n",
    "    'status': 'Sin Datos',\n",
    "    'tagline': 'Sin Datos',\n",
    "    'overview': 'Sin Datos',}\n",
    "\n",
    "for columna, dato in mapeo_nulos.items():\n",
    "    df = reemplazarNulos(df, columna, dato)"
   ]
  },
  {
   "cell_type": "code",
   "execution_count": 52,
   "metadata": {},
   "outputs": [
    {
     "data": {
      "text/plain": [
       "id                          0\n",
       "spoken_languagesname        0\n",
       "genresname                  0\n",
       "title                       0\n",
       "budget                      0\n",
       "revenue                     0\n",
       "overview                    0\n",
       "release_date                0\n",
       "vote_average                0\n",
       "vote_count                  0\n",
       "popularity                  0\n",
       "runtime                     0\n",
       "status                      0\n",
       "tagline                     0\n",
       "production_companiesname    0\n",
       "production_countriesname    0\n",
       "release_year                0\n",
       "return                      0\n",
       "director                    0\n",
       "actor                       0\n",
       "dtype: int64"
      ]
     },
     "execution_count": 52,
     "metadata": {},
     "output_type": "execute_result"
    }
   ],
   "source": [
    "df.isnull().sum() #No tengo valores nulos"
   ]
  },
  {
   "cell_type": "markdown",
   "metadata": {},
   "source": [
    "Si bien ahora no tenemos valores \"Nulos\", si tenemos campos con el valor \"Sin Datos\"."
   ]
  },
  {
   "cell_type": "code",
   "execution_count": null,
   "metadata": {},
   "outputs": [],
   "source": []
  },
  {
   "cell_type": "code",
   "execution_count": null,
   "metadata": {},
   "outputs": [],
   "source": []
  },
  {
   "cell_type": "code",
   "execution_count": 20,
   "metadata": {},
   "outputs": [
    {
     "data": {
      "text/html": [
       "<div>\n",
       "<style scoped>\n",
       "    .dataframe tbody tr th:only-of-type {\n",
       "        vertical-align: middle;\n",
       "    }\n",
       "\n",
       "    .dataframe tbody tr th {\n",
       "        vertical-align: top;\n",
       "    }\n",
       "\n",
       "    .dataframe thead th {\n",
       "        text-align: right;\n",
       "    }\n",
       "</style>\n",
       "<table border=\"1\" class=\"dataframe\">\n",
       "  <thead>\n",
       "    <tr style=\"text-align: right;\">\n",
       "      <th></th>\n",
       "      <th>budget</th>\n",
       "      <th>revenue</th>\n",
       "      <th>return</th>\n",
       "      <th>vote_average</th>\n",
       "      <th>vote_count</th>\n",
       "      <th>popularity</th>\n",
       "    </tr>\n",
       "  </thead>\n",
       "  <tbody>\n",
       "    <tr>\n",
       "      <th>count</th>\n",
       "      <td>4.534600e+04</td>\n",
       "      <td>4.534600e+04</td>\n",
       "      <td>4.534600e+04</td>\n",
       "      <td>45346.000000</td>\n",
       "      <td>45346.000000</td>\n",
       "      <td>45346.000000</td>\n",
       "    </tr>\n",
       "    <tr>\n",
       "      <th>mean</th>\n",
       "      <td>4.232580e+06</td>\n",
       "      <td>1.123366e+07</td>\n",
       "      <td>6.604792e+02</td>\n",
       "      <td>5.624196</td>\n",
       "      <td>110.135293</td>\n",
       "      <td>2.926188</td>\n",
       "    </tr>\n",
       "    <tr>\n",
       "      <th>std</th>\n",
       "      <td>1.744373e+07</td>\n",
       "      <td>6.440990e+07</td>\n",
       "      <td>7.471800e+04</td>\n",
       "      <td>1.915339</td>\n",
       "      <td>491.899276</td>\n",
       "      <td>6.010970</td>\n",
       "    </tr>\n",
       "    <tr>\n",
       "      <th>min</th>\n",
       "      <td>0.000000e+00</td>\n",
       "      <td>0.000000e+00</td>\n",
       "      <td>0.000000e+00</td>\n",
       "      <td>0.000000</td>\n",
       "      <td>0.000000</td>\n",
       "      <td>0.000000</td>\n",
       "    </tr>\n",
       "    <tr>\n",
       "      <th>25%</th>\n",
       "      <td>0.000000e+00</td>\n",
       "      <td>0.000000e+00</td>\n",
       "      <td>0.000000e+00</td>\n",
       "      <td>5.000000</td>\n",
       "      <td>3.000000</td>\n",
       "      <td>0.388732</td>\n",
       "    </tr>\n",
       "    <tr>\n",
       "      <th>50%</th>\n",
       "      <td>0.000000e+00</td>\n",
       "      <td>0.000000e+00</td>\n",
       "      <td>0.000000e+00</td>\n",
       "      <td>6.000000</td>\n",
       "      <td>10.000000</td>\n",
       "      <td>1.130176</td>\n",
       "    </tr>\n",
       "    <tr>\n",
       "      <th>75%</th>\n",
       "      <td>0.000000e+00</td>\n",
       "      <td>0.000000e+00</td>\n",
       "      <td>0.000000e+00</td>\n",
       "      <td>6.800000</td>\n",
       "      <td>34.000000</td>\n",
       "      <td>3.689337</td>\n",
       "    </tr>\n",
       "    <tr>\n",
       "      <th>max</th>\n",
       "      <td>3.800000e+08</td>\n",
       "      <td>2.787965e+09</td>\n",
       "      <td>1.239638e+07</td>\n",
       "      <td>10.000000</td>\n",
       "      <td>14075.000000</td>\n",
       "      <td>547.488298</td>\n",
       "    </tr>\n",
       "  </tbody>\n",
       "</table>\n",
       "</div>"
      ],
      "text/plain": [
       "             budget       revenue        return  vote_average    vote_count  \\\n",
       "count  4.534600e+04  4.534600e+04  4.534600e+04  45346.000000  45346.000000   \n",
       "mean   4.232580e+06  1.123366e+07  6.604792e+02      5.624196    110.135293   \n",
       "std    1.744373e+07  6.440990e+07  7.471800e+04      1.915339    491.899276   \n",
       "min    0.000000e+00  0.000000e+00  0.000000e+00      0.000000      0.000000   \n",
       "25%    0.000000e+00  0.000000e+00  0.000000e+00      5.000000      3.000000   \n",
       "50%    0.000000e+00  0.000000e+00  0.000000e+00      6.000000     10.000000   \n",
       "75%    0.000000e+00  0.000000e+00  0.000000e+00      6.800000     34.000000   \n",
       "max    3.800000e+08  2.787965e+09  1.239638e+07     10.000000  14075.000000   \n",
       "\n",
       "         popularity  \n",
       "count  45346.000000  \n",
       "mean       2.926188  \n",
       "std        6.010970  \n",
       "min        0.000000  \n",
       "25%        0.388732  \n",
       "50%        1.130176  \n",
       "75%        3.689337  \n",
       "max      547.488298  "
      ]
     },
     "execution_count": 20,
     "metadata": {},
     "output_type": "execute_result"
    }
   ],
   "source": [
    "df[['budget','revenue','return','vote_average','vote_count','popularity']].describe() #Sólo numéricos"
   ]
  }
 ],
 "metadata": {
  "kernelspec": {
   "display_name": "Python 3",
   "language": "python",
   "name": "python3"
  },
  "language_info": {
   "codemirror_mode": {
    "name": "ipython",
    "version": 3
   },
   "file_extension": ".py",
   "mimetype": "text/x-python",
   "name": "python",
   "nbconvert_exporter": "python",
   "pygments_lexer": "ipython3",
   "version": "3.11.9"
  }
 },
 "nbformat": 4,
 "nbformat_minor": 2
}
